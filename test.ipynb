{
 "cells": [
  {
   "cell_type": "code",
   "execution_count": 1,
   "metadata": {},
   "outputs": [],
   "source": [
    "import tensorflow as tf\n",
    "import numpy as np\n",
    "import matplotlib.pyplot as plt\n",
    "import scipy.io as sc\n",
    "import pandas as pd\n",
    "from tensorflow import keras\n",
    "from tensorflow.keras import layers\n",
    "from tensorflow.keras.layers.experimental import preprocessing\n",
    "\n",
    "def dataset(dataFile, labelFile):\n",
    "    dataFile = \"./communication/\" + dataFile\n",
    "    labelFile = \"./communication/\" + labelFile\n",
    "    my_data = sc.loadmat(dataFile)\n",
    "    my_labels = sc.loadmat(labelFile)\n",
    "    my_data = my_data['Y']\n",
    "    X = my_labels['L_S_x']\n",
    "    myOrig = table_data(my_data, my_labels['L_Constellations'][0], X)\n",
    "    myTable = assign_labels(myOrig)\n",
    "    return myTable\n",
    "\n",
    "def table_data(my_data, cons, label):\n",
    "    block = my_data.shape[1]\n",
    "    my_data_size = my_data.shape[0] * block\n",
    "    my_data_div = my_data.T.reshape(my_data_size,)\n",
    "    cons_array = np.array([[cons[i]]*my_data.shape[0] for i in range(0,block)]).reshape(my_data_size,)\n",
    "    block_array = np.array([([i+1]*my_data.shape[0])for i in range(0, block)]).reshape(my_data_size,)\n",
    "    label_array = label.T.reshape(my_data_size,)\n",
    "    test_pd = pd.DataFrame({'real':my_data_div.real,'imag':my_data_div.imag,\n",
    "            'cons':cons_array, 'block':block_array,\n",
    "            'label':label_array})\n",
    "    return test_pd\n",
    "\n",
    "def assign_labels(myTable):\n",
    "    myTest = myTable.copy()\n",
    "    myTest.loc[myTest.cons==2, 'label'] = myTest.loc[myTest.cons==2, 'label']+4\n",
    "    myTest.label = myTest.label-1\n",
    "    return myTest\n",
    "\n",
    "\n",
    "from numpy.random import default_rng\n",
    "def training_set(myTable):\n",
    "    block = myTable.shape[0]\n",
    "    rng = default_rng()\n",
    "    sample_size = int(0.8 * block)\n",
    "    numbers = rng.choice(range(1, block + 1), size=sample_size, replace=False)\n",
    "    training_dataset = myTable[myTable.block.isin(numbers)]\n",
    "    return training_dataset\n",
    "\n",
    "def test_set(myTable, training_dataset):\n",
    "    remaining = myTable.drop(training_dataset.index)\n",
    "    return remaining\n",
    "\n",
    "\n",
    "\n",
    "def build_and_compile_model(norm):\n",
    "    model = keras.Sequential([\n",
    "        norm,\n",
    "        layers.Dense(50, activation='relu'),\n",
    "        layers.Dense(50, activation='relu'),\n",
    "        layers.Dense(20)\n",
    "    ])\n",
    "    model.compile(loss=tf.keras.losses.SparseCategoricalCrossentropy(from_logits=True),\n",
    "                optimizer=tf.keras.optimizers.Adam(0.01),\n",
    "                 metrics=['accuracy'])\n",
    "    return model\n",
    "\n",
    "def get_total_loss(predict_label, true_label):\n",
    "    i = 0\n",
    "    for j in range(len(predict_label)):\n",
    "        prediction = np.argmax(predict_label[j])\n",
    "        if prediction != true_label[j]:\n",
    "            i = i + 1\n",
    "    return i/len(predict_label)\n",
    "\n",
    "datas = \"INR30data\"\n",
    "labels = \"INR30labels\"\n",
    "\n",
    "\n",
    "def get_training(myTable, epochs, files):\n",
    "    train_dataset = training_set(myTable)\n",
    "    test_dataset = test_set(myTable, train_dataset)\n",
    "    train_features = train_dataset.copy()\n",
    "    test_features = test_dataset.copy()\n",
    "    train_labels = pd.DataFrame([train_features.pop('label')]).T\n",
    "    test_labels = pd.DataFrame([test_features.pop('label')]).T\n",
    "    normalizer = preprocessing.Normalization()\n",
    "    normalizer.adapt(np.array(train_features))\n",
    "    dnn_real_model = build_and_compile_model(normalizer)\n",
    "    history = dnn_real_model.fit(\n",
    "        train_features, train_labels,\n",
    "        validation_split=0.2,\n",
    "        epochs=epochs)\n",
    "    hist = pd.DataFrame(history.history)\n",
    "    hist['epoch'] = history.epoch\n",
    "    test_results = {}\n",
    "    test_results['signal'] = dnn_real_model.evaluate(\n",
    "        test_features,\n",
    "        test_labels, verbose=0)\n",
    "    probability_model = tf.keras.Sequential([dnn_real_model,\n",
    "                                             tf.keras.layers.Softmax()])\n",
    "    predictions = probability_model.predict(test_features)\n",
    "    '''\n",
    "    plt.clf()\n",
    "    plot_loss(history)\n",
    "    plt.savefig('./results/'+files, dpi=300, bbox_inches='tight')\n",
    "    hist = pd.DataFrame(history.history)\n",
    "    hist['epoch'] = history.epoch\n",
    "    hist.tail()\n",
    "    hist = hist.append(test_results, ignore_index=True)\n",
    "    hist.to_csv('./results/' + files + '.csv', index=False)\n",
    "    '''\n",
    "    return [predictions, test_labels]\n",
    "\n",
    "\n",
    "\n",
    "def plot_loss(history):\n",
    "    plt.plot(history.history['loss'], label='loss')\n",
    "    plt.plot(history.history['val_loss'], label='val_loss')\n",
    "    plt.ylim([0, 10])\n",
    "    plt.xlabel('Epoch')\n",
    "    plt.ylabel('Error [Ireal]')\n",
    "    plt.legend()\n",
    "    plt.grid(True)\n",
    "\n",
    "\n",
    "def prediction(model, testTable, test_results, fileNanme):\n",
    "    test_features = testTable.copy()\n",
    "    test_labels = pd.DataFrame([test_features.pop('label')]).T\n",
    "    test_results[fileNanme] = model.evaluate(\n",
    "        test_features,\n",
    "        test_labels, verbose=0)"
   ]
  },
  {
   "cell_type": "code",
   "execution_count": 11,
   "metadata": {},
   "outputs": [],
   "source": [
    "def plot_loss(history):\n",
    "    plt.plot(history.history['loss'], label='loss')\n",
    "    plt.plot(history.history['val_loss'], label='val_loss')\n",
    "    plt.ylim([0, 10])\n",
    "    plt.xlabel('Epoch')\n",
    "    plt.ylabel('Error [Ireal]')\n",
    "    plt.legend()\n",
    "    plt.grid(True)"
   ]
  },
  {
   "cell_type": "code",
   "execution_count": 2,
   "metadata": {},
   "outputs": [],
   "source": [
    "myTable = dataset(\"INR30data\", \"INR30labels\")"
   ]
  },
  {
   "cell_type": "code",
   "execution_count": 4,
   "metadata": {},
   "outputs": [],
   "source": [
    "my_data = \"my_data\"\n",
    "my_labels = \"my_labels\"\n",
    "INR30data = \"INR30data\"\n",
    "INR30labels = \"INR30labels\"\n",
    "INR30with90data = \"INR30with90data\"\n",
    "INR30with90labels = \"INR30with90labels\"\n",
    "noise30data = \"noise30data\"\n",
    "noise30label = \"noise30label\"\n",
    "\n",
    "myTable = dataset(my_data, my_labels)\n",
    "INR30Table = dataset(INR30data, INR30labels)\n",
    "INR30with90Table = dataset(INR30with90data, INR30with90labels)\n",
    "noise30Table = dataset(noise30data, noise30label)\n",
    "\n",
    "test = [myTable, INR30Table, INR30with90Table, noise30Table]\n",
    "name = [my_data, INR30data, INR30with90data, noise30data]\n",
    "result = {}"
   ]
  },
  {
   "cell_type": "code",
   "execution_count": 17,
   "metadata": {},
   "outputs": [],
   "source": [
    "my_data = \"my_data\"\n",
    "my_labels = \"my_labels\"\n",
    "myTable = dataset(my_data, my_labels)"
   ]
  },
  {
   "cell_type": "code",
   "execution_count": 5,
   "metadata": {},
   "outputs": [
    {
     "name": "stdout",
     "output_type": "stream",
     "text": [
      "Epoch 1/10\n",
      "1002/1002 [==============================] - 1s 798us/step - loss: 0.9242 - accuracy: 0.6669 - val_loss: 0.7183 - val_accuracy: 0.6831\n",
      "Epoch 2/10\n",
      "1002/1002 [==============================] - 1s 682us/step - loss: 0.5803 - accuracy: 0.7395 - val_loss: 0.4864 - val_accuracy: 0.7620\n",
      "Epoch 3/10\n",
      "1002/1002 [==============================] - 1s 688us/step - loss: 0.4401 - accuracy: 0.7925 - val_loss: 0.3872 - val_accuracy: 0.8085\n",
      "Epoch 4/10\n",
      "1002/1002 [==============================] - 1s 681us/step - loss: 0.3704 - accuracy: 0.8167 - val_loss: 0.4604 - val_accuracy: 0.7795\n",
      "Epoch 5/10\n",
      "1002/1002 [==============================] - 1s 675us/step - loss: 0.3491 - accuracy: 0.8254 - val_loss: 0.3722 - val_accuracy: 0.8139\n",
      "Epoch 6/10\n",
      "1002/1002 [==============================] - 1s 683us/step - loss: 0.3315 - accuracy: 0.8323 - val_loss: 0.3685 - val_accuracy: 0.8237\n",
      "Epoch 7/10\n",
      "1002/1002 [==============================] - 1s 679us/step - loss: 0.3108 - accuracy: 0.8381 - val_loss: 0.3667 - val_accuracy: 0.8248\n",
      "Epoch 8/10\n",
      "1002/1002 [==============================] - 1s 679us/step - loss: 0.3097 - accuracy: 0.8401 - val_loss: 0.2869 - val_accuracy: 0.8398\n",
      "Epoch 9/10\n",
      "1002/1002 [==============================] - 1s 676us/step - loss: 0.3127 - accuracy: 0.8419 - val_loss: 0.3301 - val_accuracy: 0.8293\n",
      "Epoch 10/10\n",
      "1002/1002 [==============================] - 1s 671us/step - loss: 0.2958 - accuracy: 0.8453 - val_loss: 0.3074 - val_accuracy: 0.8377\n"
     ]
    }
   ],
   "source": [
    "results = get_training(INR30Table, 10, \"normal\")"
   ]
  },
  {
   "cell_type": "code",
   "execution_count": 287,
   "metadata": {},
   "outputs": [
    {
     "data": {
      "text/plain": [
       "9950"
      ]
     },
     "execution_count": 287,
     "metadata": {},
     "output_type": "execute_result"
    }
   ],
   "source": [
    "predictions = []\n",
    "for i in range(len(results[0])):\n",
    "    predictions.append(np.argmax(results[0][i]))\n",
    "len(results[0])"
   ]
  },
  {
   "cell_type": "code",
   "execution_count": 7,
   "metadata": {},
   "outputs": [],
   "source": [
    "test1 = tf.math.confusion_matrix(predictions, results[1].to_numpy()).numpy()"
   ]
  },
  {
   "cell_type": "code",
   "execution_count": 8,
   "metadata": {},
   "outputs": [],
   "source": [
    "test_data = pd.DataFrame(test1)"
   ]
  },
  {
   "cell_type": "code",
   "execution_count": 40,
   "metadata": {},
   "outputs": [],
   "source": [
    "cons_4 = test_data[:4]"
   ]
  },
  {
   "cell_type": "code",
   "execution_count": 39,
   "metadata": {},
   "outputs": [],
   "source": [
    "cons_16 = test_data[4:]"
   ]
  },
  {
   "cell_type": "code",
   "execution_count": 65,
   "metadata": {},
   "outputs": [],
   "source": [
    "cons_4_error = (cons_4.iloc[:, 4:].sum().sum())/cons_4.sum().sum()\n",
    "cons_16_error = (cons_16.iloc[:, :4].sum().sum())/cons_4.sum().sum()"
   ]
  },
  {
   "cell_type": "code",
   "execution_count": 173,
   "metadata": {},
   "outputs": [
    {
     "data": {
      "text/plain": [
       "array([[0.37413518, 0.12403101],\n",
       "       [0.        , 0.13003663]])"
      ]
     },
     "execution_count": 173,
     "metadata": {},
     "output_type": "execute_result"
    }
   ],
   "source": [
    "symbol_error_results_4"
   ]
  },
  {
   "cell_type": "code",
   "execution_count": 172,
   "metadata": {},
   "outputs": [],
   "source": [
    "symbol_error_results_4 = np.array([1-cons_4.iloc[i,i]/cons_4.iloc[i,:].sum() for i in range(4)]).reshape(2,2)"
   ]
  },
  {
   "cell_type": "code",
   "execution_count": 163,
   "metadata": {},
   "outputs": [],
   "source": [
    "symbol_errro_results_16 = np.array([1-cons_16.iloc[i-4,i]/cons_16.iloc[i-4,:].sum() for i in range(4,20)]).reshape(4,4)"
   ]
  },
  {
   "cell_type": "code",
   "execution_count": 176,
   "metadata": {},
   "outputs": [
    {
     "data": {
      "text/plain": [
       "array([[0.        , 0.02866242, 0.10693642, 0.06270627],\n",
       "       [0.0060241 , 0.23275862, 0.1550152 , 0.04731861],\n",
       "       [0.11016949, 0.0546875 , 0.02931596, 0.00923077],\n",
       "       [0.01333333, 0.05135952, 0.07387863, 0.05792683]])"
      ]
     },
     "execution_count": 176,
     "metadata": {},
     "output_type": "execute_result"
    }
   ],
   "source": [
    "symbol_error_results_4 = pd.DataFrame(symbol_error_results_4)\n",
    "symbol_errro_results_16"
   ]
  },
  {
   "cell_type": "code",
   "execution_count": 116,
   "metadata": {},
   "outputs": [
    {
     "data": {
      "text/plain": [
       "[0.0,\n",
       " 0.0286624203821656,\n",
       " 0.10693641618497107,\n",
       " 0.06270627062706269,\n",
       " 0.0060240963855421326,\n",
       " 0.23275862068965514,\n",
       " 0.1550151975683891,\n",
       " 0.04731861198738174,\n",
       " 0.11016949152542377,\n",
       " 0.0546875,\n",
       " 0.02931596091205213,\n",
       " 0.009230769230769265,\n",
       " 0.013333333333333308,\n",
       " 0.051359516616314216,\n",
       " 0.07387862796833777,\n",
       " 0.057926829268292734]"
      ]
     },
     "execution_count": 116,
     "metadata": {},
     "output_type": "execute_result"
    }
   ],
   "source": [
    "symbol_errro_results_16 "
   ]
  },
  {
   "cell_type": "code",
   "execution_count": 117,
   "metadata": {},
   "outputs": [],
   "source": [
    "import seaborn as sns"
   ]
  },
  {
   "cell_type": "code",
   "execution_count": 175,
   "metadata": {},
   "outputs": [
    {
     "data": {
      "text/plain": [
       "Text(0.5, 15.0, 'Predicted label')"
      ]
     },
     "execution_count": 175,
     "metadata": {},
     "output_type": "execute_result"
    },
    {
     "data": {
      "image/png": "[encoded data removed]",
      "text/plain": [
       "<Figure size 288x288 with 2 Axes>"
      ]
     },
     "metadata": {
      "needs_background": "light"
     },
     "output_type": "display_data"
    }
   ],
   "source": [
    "plt.figure(figsize = (4,4))\n",
    "sns.heatmap(symbol_error_results_4, annot=True, cmap=plt.cm.Blues)\n",
    "plt.tight_layout()\n",
    "plt.ylabel('True label')\n",
    "plt.xlabel('Predicted label')"
   ]
  },
  {
   "cell_type": "code",
   "execution_count": 292,
   "metadata": {},
   "outputs": [
    {
     "data": {
      "image/png": "[encoded data removed]",
      "text/plain": [
       "<Figure size 432x288 with 2 Axes>"
      ]
     },
     "metadata": {
      "needs_background": "light"
     },
     "output_type": "display_data"
    },
    {
     "data": {
      "image/png": "[encoded data removed]",
      "text/plain": [
       "<Figure size 432x288 with 2 Axes>"
      ]
     },
     "metadata": {
      "needs_background": "light"
     },
     "output_type": "display_data"
    }
   ],
   "source": [
    "plt.figurt\n",
    "cons16 = plot_heatmap(symbol_errro_results_16, cons_16_error)\n",
    "cons4 = plot_heatmap(symbol_error_results_4, cons_4_error)"
   ]
  },
  {
   "cell_type": "code",
   "execution_count": 367,
   "metadata": {},
   "outputs": [],
   "source": [
    "def plot_heatmap(ax, symbol_error, cons_error):\n",
    "    df = sns.heatmap(symbol_error, annot=True,cmap=plt.cm.Blues, ax=ax)  \n",
    "    df.xaxis.tick_top()\n",
    "    df.set_xlabel(['P(cons error)= {:.2f}'.format(cons_error)]) "
   ]
  },
  {
   "cell_type": "code",
   "execution_count": 374,
   "metadata": {},
   "outputs": [
    {
     "data": {
      "image/png": "[encoded data removed]",
      "text/plain": [
       "<Figure size 864x360 with 4 Axes>"
      ]
     },
     "metadata": {
      "needs_background": "light"
     },
     "output_type": "display_data"
    }
   ],
   "source": [
    "fig, (ax1, ax2) = plt.subplots(1,2, figsize=(12,5))\n",
    "plot_heatmap(ax1, symbol_errro_results_16, cons_16_error)\n",
    "plot_heatmap(ax2, symbol_error_results_4, cons_4_error)\n",
    "plt.show()\n",
    "plt.save()"
   ]
  },
  {
   "cell_type": "code",
   "execution_count": null,
   "metadata": {},
   "outputs": [],
   "source": []
  }
 ],
 "metadata": {
  "kernelspec": {
   "display_name": "Python 3",
   "language": "python",
   "name": "python3"
  },
  "language_info": {
   "codemirror_mode": {
    "name": "ipython",
    "version": 3
   },
   "file_extension": ".py",
   "mimetype": "text/x-python",
   "name": "python",
   "nbconvert_exporter": "python",
   "pygments_lexer": "ipython3",
   "version": "3.7.1"
  }
 },
 "nbformat": 4,
 "nbformat_minor": 4
}
