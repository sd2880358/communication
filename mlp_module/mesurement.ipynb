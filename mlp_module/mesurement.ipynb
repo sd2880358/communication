{
 "cells": [
  {
   "cell_type": "code",
   "execution_count": 1,
   "metadata": {},
   "outputs": [],
   "source": [
    "import pandas as pd"
   ]
  },
  {
   "cell_type": "code",
   "execution_count": 3,
   "metadata": {},
   "outputs": [
    {
     "data": {
      "text/plain": [
       "'\\nmodel_ori2 = pd.read_csv(diretory+\"/test2_ori_error_rate.csv\")\\nmodel_cross1 = pd.read_csv(diretory+\"/test1_cross_error_rate.csv\")\\nmodel_cross2 = pd.read_csv(diretory+\"/test2_cross_error_rate.csv\")\\n'"
      ]
     },
     "execution_count": 3,
     "metadata": {},
     "output_type": "execute_result"
    }
   ],
   "source": [
    "diretory = \"./result/sample_size\"\n",
    "model_ori1 = pd.read_csv(diretory+\"/error_rate.csv\")\n",
    "'''\n",
    "model_ori2 = pd.read_csv(diretory+\"/test2_ori_error_rate.csv\")\n",
    "model_cross1 = pd.read_csv(diretory+\"/test1_cross_error_rate.csv\")\n",
    "model_cross2 = pd.read_csv(diretory+\"/test2_cross_error_rate.csv\")\n",
    "'''"
   ]
  },
  {
   "cell_type": "code",
   "execution_count": 20,
   "metadata": {},
   "outputs": [],
   "source": [
    "data = model_ori1.copy()\n",
    "QAM4 = data.iloc[:, 0:4]\n",
    "QAM16 = data.drop(QAM4, axis=1)"
   ]
  },
  {
   "cell_type": "code",
   "execution_count": 27,
   "metadata": {},
   "outputs": [
    {
     "data": {
      "text/plain": [
       "0     0.008342\n",
       "1     0.007030\n",
       "2     0.006268\n",
       "3     0.010314\n",
       "4     0.042512\n",
       "5     0.020282\n",
       "6     0.022942\n",
       "7     0.033099\n",
       "8     0.021507\n",
       "9     0.018472\n",
       "10    0.020205\n",
       "11    0.029083\n",
       "12    0.029892\n",
       "13    0.024931\n",
       "14    0.024384\n",
       "15    0.019867\n",
       "16    0.033543\n",
       "17    0.038710\n",
       "18    0.031399\n",
       "19    0.031343\n",
       "20    0.000168\n",
       "21    0.000000\n",
       "dtype: float64"
      ]
     },
     "execution_count": 27,
     "metadata": {},
     "output_type": "execute_result"
    }
   ],
   "source": [
    "data.std().to_csv(\"./table1\".)"
   ]
  },
  {
   "cell_type": "code",
   "execution_count": 24,
   "metadata": {},
   "outputs": [],
   "source": [
    "QAM16 = QAM16.iloc[:, :-2]"
   ]
  },
  {
   "cell_type": "code",
   "execution_count": 26,
   "metadata": {},
   "outputs": [
    {
     "data": {
      "text/plain": [
       "0.5105320168206672"
      ]
     },
     "execution_count": 26,
     "metadata": {},
     "output_type": "execute_result"
    }
   ],
   "source": [
    "QAM16.mean().mean()"
   ]
  },
  {
   "cell_type": "code",
   "execution_count": 15,
   "metadata": {},
   "outputs": [
    {
     "data": {
      "text/plain": [
       "0.0"
      ]
     },
     "execution_count": 15,
     "metadata": {},
     "output_type": "execute_result"
    }
   ],
   "source": [
    "((model_ori1 - model_ori1)**2).sum().sum()"
   ]
  },
  {
   "cell_type": "code",
   "execution_count": 22,
   "metadata": {},
   "outputs": [
    {
     "data": {
      "text/plain": [
       "3.929118698675887e-05"
      ]
     },
     "execution_count": 22,
     "metadata": {},
     "output_type": "execute_result"
    }
   ],
   "source": [
    "3.929118698675887e-05"
   ]
  },
  {
   "cell_type": "code",
   "execution_count": null,
   "metadata": {},
   "outputs": [],
   "source": []
  }
 ],
 "metadata": {
  "kernelspec": {
   "display_name": "Python 3",
   "language": "python",
   "name": "python3"
  },
  "language_info": {
   "codemirror_mode": {
    "name": "ipython",
    "version": 3
   },
   "file_extension": ".py",
   "mimetype": "text/x-python",
   "name": "python",
   "nbconvert_exporter": "python",
   "pygments_lexer": "ipython3",
   "version": "3.7.1"
  }
 },
 "nbformat": 4,
 "nbformat_minor": 4
}
