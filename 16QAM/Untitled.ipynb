{
 "cells": [
  {
   "cell_type": "code",
   "execution_count": 1,
   "metadata": {},
   "outputs": [],
   "source": [
    "import tensorflow as tf\n",
    "import mitdeeplearning as mdl\n",
    "import numpy as np\n",
    "import matplotlib.pyplot as plt\n",
    "import scipy.io as sc\n",
    "import pandas as pd\n",
    "dataFile = \"./my_data.mat\"\n",
    "labelFile = './my_label.mat'\n",
    "\n",
    "my_data = sc.loadmat(dataFile)\n",
    "my_labels = sc.loadmat(labelFile)"
   ]
  },
  {
   "cell_type": "code",
   "execution_count": 100,
   "metadata": {},
   "outputs": [],
   "source": [
    "my_sample = my_data['y']"
   ]
  },
  {
   "cell_type": "code",
   "execution_count": 39,
   "metadata": {},
   "outputs": [],
   "source": [
    "my_sample = my_data['y'].T\n",
    "my_label = my_labels['ip'].T"
   ]
  },
  {
   "cell_type": "code",
   "execution_count": 140,
   "metadata": {},
   "outputs": [],
   "source": [
    "def dataClean(my_data, my_labels):\n",
    "    my_sample = my_data['y'].T\n",
    "    my_label = my_labels['ip'].T\n",
    "    array = [-3,-1,1,3]\n",
    "    symbols = [complex(i,j)for i in array for j in array]\n",
    "    a = []\n",
    "    for i in range((my_label.shape[0])):\n",
    "        for j in range(len(symbols)):\n",
    "            if my_label[i] == symbols[j]:\n",
    "                a.append(j)\n",
    "    size = my_sample.shape[0]\n",
    "    my_Table = pd.DataFrame({'real': my_sample.real.reshape(size), 'imag': my_sample.imag.reshape(size),\n",
    "                  'label': a})\n",
    "    return my_Table"
   ]
  },
  {
   "cell_type": "code",
   "execution_count": 141,
   "metadata": {},
   "outputs": [],
   "source": [
    "test = dataClean(my_data, my_labels)"
   ]
  },
  {
   "cell_type": "code",
   "execution_count": 142,
   "metadata": {},
   "outputs": [
    {
     "data": {
      "text/html": [
       "<div>\n",
       "<style scoped>\n",
       "    .dataframe tbody tr th:only-of-type {\n",
       "        vertical-align: middle;\n",
       "    }\n",
       "\n",
       "    .dataframe tbody tr th {\n",
       "        vertical-align: top;\n",
       "    }\n",
       "\n",
       "    .dataframe thead th {\n",
       "        text-align: right;\n",
       "    }\n",
       "</style>\n",
       "<table border=\"1\" class=\"dataframe\">\n",
       "  <thead>\n",
       "    <tr style=\"text-align: right;\">\n",
       "      <th></th>\n",
       "      <th>real</th>\n",
       "      <th>imag</th>\n",
       "      <th>label</th>\n",
       "    </tr>\n",
       "  </thead>\n",
       "  <tbody>\n",
       "    <tr>\n",
       "      <th>0</th>\n",
       "      <td>0.873692</td>\n",
       "      <td>0.902812</td>\n",
       "      <td>3</td>\n",
       "    </tr>\n",
       "    <tr>\n",
       "      <th>1</th>\n",
       "      <td>0.351024</td>\n",
       "      <td>0.308342</td>\n",
       "      <td>10</td>\n",
       "    </tr>\n",
       "    <tr>\n",
       "      <th>2</th>\n",
       "      <td>0.262022</td>\n",
       "      <td>-0.842452</td>\n",
       "      <td>8</td>\n",
       "    </tr>\n",
       "    <tr>\n",
       "      <th>3</th>\n",
       "      <td>0.286176</td>\n",
       "      <td>-0.898863</td>\n",
       "      <td>8</td>\n",
       "    </tr>\n",
       "    <tr>\n",
       "      <th>4</th>\n",
       "      <td>-0.998481</td>\n",
       "      <td>0.288196</td>\n",
       "      <td>2</td>\n",
       "    </tr>\n",
       "    <tr>\n",
       "      <th>...</th>\n",
       "      <td>...</td>\n",
       "      <td>...</td>\n",
       "      <td>...</td>\n",
       "    </tr>\n",
       "    <tr>\n",
       "      <th>199995</th>\n",
       "      <td>-0.365253</td>\n",
       "      <td>0.909159</td>\n",
       "      <td>7</td>\n",
       "    </tr>\n",
       "    <tr>\n",
       "      <th>199996</th>\n",
       "      <td>-0.922050</td>\n",
       "      <td>-0.352069</td>\n",
       "      <td>1</td>\n",
       "    </tr>\n",
       "    <tr>\n",
       "      <th>199997</th>\n",
       "      <td>0.329067</td>\n",
       "      <td>0.147319</td>\n",
       "      <td>10</td>\n",
       "    </tr>\n",
       "    <tr>\n",
       "      <th>199998</th>\n",
       "      <td>-0.917628</td>\n",
       "      <td>-0.989886</td>\n",
       "      <td>0</td>\n",
       "    </tr>\n",
       "    <tr>\n",
       "      <th>199999</th>\n",
       "      <td>-0.947562</td>\n",
       "      <td>-0.921812</td>\n",
       "      <td>0</td>\n",
       "    </tr>\n",
       "  </tbody>\n",
       "</table>\n",
       "<p>200000 rows × 3 columns</p>\n",
       "</div>"
      ],
      "text/plain": [
       "            real      imag  label\n",
       "0       0.873692  0.902812      3\n",
       "1       0.351024  0.308342     10\n",
       "2       0.262022 -0.842452      8\n",
       "3       0.286176 -0.898863      8\n",
       "4      -0.998481  0.288196      2\n",
       "...          ...       ...    ...\n",
       "199995 -0.365253  0.909159      7\n",
       "199996 -0.922050 -0.352069      1\n",
       "199997  0.329067  0.147319     10\n",
       "199998 -0.917628 -0.989886      0\n",
       "199999 -0.947562 -0.921812      0\n",
       "\n",
       "[200000 rows x 3 columns]"
      ]
     },
     "execution_count": 142,
     "metadata": {},
     "output_type": "execute_result"
    }
   ],
   "source": [
    "test"
   ]
  },
  {
   "cell_type": "code",
   "execution_count": null,
   "metadata": {},
   "outputs": [],
   "source": []
  }
 ],
 "metadata": {
  "kernelspec": {
   "display_name": "Python 3",
   "language": "python",
   "name": "python3"
  },
  "language_info": {
   "codemirror_mode": {
    "name": "ipython",
    "version": 3
   },
   "file_extension": ".py",
   "mimetype": "text/x-python",
   "name": "python",
   "nbconvert_exporter": "python",
   "pygments_lexer": "ipython3",
   "version": "3.7.1"
  }
 },
 "nbformat": 4,
 "nbformat_minor": 4
}
