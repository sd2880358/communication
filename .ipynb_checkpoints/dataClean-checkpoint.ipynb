{
 "cells": [
  {
   "cell_type": "code",
   "execution_count": 175,
   "metadata": {},
   "outputs": [],
   "source": [
    "import tensorflow as tf\n",
    "import mitdeeplearning as mdl\n",
    "import numpy as np\n",
    "import matplotlib.pyplot as plt\n",
    "import scipy.io as sc\n",
    "import pandas as pd\n",
    "dataFile = \"./my_data.mat\"\n",
    "sambolsFile = './mysambol.mat'\n",
    "labelFile = './my_labels.mat'\n",
    "my_data = sc.loadmat(dataFile)\n",
    "my_labels = sc.loadmat(labelFile)\n",
    "data2 = sc.loadmat(sambolsFile)\n",
    "my_data = my_data['Y']\n",
    "I = data2['I']\n",
    "N = data2['N']\n",
    "X = data2['X']"
   ]
  },
  {
   "cell_type": "code",
   "execution_count": 176,
   "metadata": {},
   "outputs": [],
   "source": [
    "def table_data(my_data, snr, inr, cons, label):\n",
    "    block = my_data.shape[1]\n",
    "    my_data_size = my_data.shape[0] * block\n",
    "    my_data_div = my_data.T.reshape(my_data_size,)\n",
    "    snr_array = np.array([snr]*my_data_size)\n",
    "    inr_array = np.array([inr]*my_data_size)\n",
    "    cons_array = np.array([[cons[i]]*my_data.shape[0] for i in range(0,block)]).reshape(my_data_size,)\n",
    "    block_array = np.array([([i+1]*my_data.shape[0])for i in range(0, block)]).reshape(my_data_size,)\n",
    "    label_array = label.T.reshape(my_data_size,)\n",
    "    test_pd = pd.DataFrame({'real':my_data_div.real,'imag':my_data_div.imag, 'snr':snr_array, 'inr':inr_array,\n",
    "            'cons':cons_array, 'block':block_array, \n",
    "            'lreal':label_array.real, 'limag':label_array.imag})\n",
    "    return test_pd\n",
    "myTable = table_data(my_data, 0.6, 0.05, my_labels['L_Constellations'][0], X)"
   ]
  },
  {
   "cell_type": "code",
   "execution_count": 177,
   "metadata": {},
   "outputs": [],
   "source": [
    "from tensorflow import keras\n",
    "from tensorflow.keras import layers\n",
    "from tensorflow.keras.layers.experimental import preprocessing"
   ]
  },
  {
   "cell_type": "code",
   "execution_count": 178,
   "metadata": {},
   "outputs": [],
   "source": [
    "'defind training batch'\n",
    "from numpy.random import default_rng\n",
    "def training_set(myTable):\n",
    "    block = myTable.shape[1]\n",
    "    rng = default_rng()\n",
    "    sample_size = int(0.8*block)\n",
    "    numbers = rng.choice(range(1,block+1), size=sample_size, replace=False)\n",
    "    training_dataset = myTable[myTable.block.isin(numbers)]\n",
    "    return training_dataset\n",
    "    \n",
    "def test_set(myTable, training_dataset):\n",
    "    remaining = myTable.drop(training_dataset.index)\n",
    "    return remaining"
   ]
  },
  {
   "cell_type": "code",
   "execution_count": 179,
   "metadata": {},
   "outputs": [],
   "source": [
    "'set training sample'\n",
    "train_dataset = training_set(myTable)\n",
    "test_dataset = test_set(myTable, train_dataset)"
   ]
  },
  {
   "cell_type": "code",
   "execution_count": 180,
   "metadata": {},
   "outputs": [],
   "source": [
    "train_features = train_dataset.copy()\n",
    "test_features = test_dataset.copy()\n",
    "\n",
    "train_labels_real = train_features.pop('lreal')\n",
    "train_labels_imag = train_features.pop('limag')\n",
    "test_labels_real = test_features.pop('lreal')\n",
    "test_labels_imag = test_features.pop('limag')"
   ]
  },
  {
   "cell_type": "code",
   "execution_count": 181,
   "metadata": {
    "scrolled": true
   },
   "outputs": [
    {
     "name": "stdout",
     "output_type": "stream",
     "text": [
      "[0.9690809 5.5027094 0.6       0.05      1.8       3.8      ]\n"
     ]
    }
   ],
   "source": [
    "normalizer = preprocessing.Normalization()\n",
    "normalizer.adapt(np.array(train_features))\n",
    "\n",
    "print(normalizer.mean.numpy())"
   ]
  },
  {
   "cell_type": "code",
   "execution_count": 269,
   "metadata": {},
   "outputs": [],
   "source": [
    "real_features = train_features.loc[:,['real','snr','inr','cons']]\n",
    "real_normalizer = preprocessing.Normalization()\n",
    "real_normalizer.adapt(np.array(real_features))"
   ]
  },
  {
   "cell_type": "code",
   "execution_count": 290,
   "metadata": {},
   "outputs": [],
   "source": [
    "def build_and_compile_model(norm):\n",
    "    model = keras.Sequential([\n",
    "    norm,\n",
    "    layers.Dense(50, activation='relu'),\n",
    "    layers.Dense(1)\n",
    "    ])\n",
    "\n",
    "    model.compile(loss='mean_absolute_error',\n",
    "                optimizer=tf.keras.optimizers.Adam(0.01))\n",
    "    return model"
   ]
  },
  {
   "cell_type": "code",
   "execution_count": 271,
   "metadata": {},
   "outputs": [],
   "source": [
    "dnn_real_model = build_and_compile_model(real_normalizer)"
   ]
  },
  {
   "cell_type": "code",
   "execution_count": 272,
   "metadata": {},
   "outputs": [],
   "source": [
    "history = dnn_real_model.fit(\n",
    "    real_features, train_labels_real,\n",
    "    validation_split=0.2,\n",
    "    verbose=0, epochs=100)"
   ]
  },
  {
   "cell_type": "code",
   "execution_count": 273,
   "metadata": {},
   "outputs": [],
   "source": [
    "def plot_loss(history):\n",
    "    plt.plot(history.history['loss'], label='loss')\n",
    "    plt.plot(history.history['val_loss'], label='val_loss')\n",
    "    plt.ylim([0, 10])\n",
    "    plt.xlabel('Epoch')\n",
    "    plt.ylabel('Error [Ireal]')\n",
    "    plt.legend()\n",
    "    plt.grid(True)"
   ]
  },
  {
   "cell_type": "code",
   "execution_count": 274,
   "metadata": {},
   "outputs": [],
   "source": [
    "test_results = {}\n",
    "test_results['real_model'] = dnn_real_model.evaluate(\n",
    "    test_features.loc[:,['real','snr', 'inr', 'cons']],\n",
    "    test_labels_real, verbose=0)"
   ]
  },
  {
   "cell_type": "code",
   "execution_count": 277,
   "metadata": {},
   "outputs": [],
   "source": [
    "y1 = dnn_real_model.predict(test_features.loc[:,['real','snr', 'inr', 'cons']]).flatten()"
   ]
  },
  {
   "cell_type": "code",
   "execution_count": 278,
   "metadata": {},
   "outputs": [
    {
     "name": "stdout",
     "output_type": "stream",
     "text": [
      "          imag  snr   inr  cons\n",
      "0   -53.722042  0.6  0.05     2\n",
      "1   -61.907205  0.6  0.05     2\n",
      "2    15.121133  0.6  0.05     2\n",
      "3    21.412338  0.6  0.05     2\n",
      "4   -14.780646  0.6  0.05     2\n",
      "..         ...  ...   ...   ...\n",
      "175  60.629573  0.6  0.05     2\n",
      "176 -60.540215  0.6  0.05     2\n",
      "177 -16.349881  0.6  0.05     2\n",
      "178 -22.468496  0.6  0.05     2\n",
      "179  60.088177  0.6  0.05     2\n",
      "\n",
      "[150 rows x 4 columns]\n"
     ]
    }
   ],
   "source": [
    "imag_features = train_features.loc[:,['imag','snr', 'inr', 'cons']]\n",
    "imag_normalizer = preprocessing.Normalization()\n",
    "imag_normalizer.adapt(np.array(train_features.loc[:,['imag','snr', 'inr', 'cons']]))\n",
    "print(imag_features)"
   ]
  },
  {
   "cell_type": "code",
   "execution_count": 279,
   "metadata": {},
   "outputs": [],
   "source": [
    "dnn_imag_model = build_and_compile_model(imag_normalizer)"
   ]
  },
  {
   "cell_type": "code",
   "execution_count": 282,
   "metadata": {},
   "outputs": [],
   "source": [
    "imag_features = train_features.loc[:,['imag','snr', 'inr', 'cons']]"
   ]
  },
  {
   "cell_type": "code",
   "execution_count": 283,
   "metadata": {},
   "outputs": [],
   "source": [
    "result2 = dnn_imag_model.fit(\n",
    "    imag_features, train_labels_imag,\n",
    "    epochs=100,\n",
    "    # suppress logging\n",
    "    verbose=0,\n",
    "    # Calculate validation results on 20% of the training data\n",
    "    validation_split = 0.2)"
   ]
  },
  {
   "cell_type": "code",
   "execution_count": 284,
   "metadata": {},
   "outputs": [],
   "source": [
    "test1_results = {}\n",
    "test1_results['imag_model'] = dnn_real_model.evaluate(\n",
    "    test_features.loc[:,['imag','snr', 'inr', 'cons']],\n",
    "    test_labels_imag, verbose=0)"
   ]
  },
  {
   "cell_type": "code",
   "execution_count": 285,
   "metadata": {},
   "outputs": [],
   "source": [
    "y2 = dnn_imag_model.predict(test_features.loc[:,['imag','snr', 'inr', 'cons']]).flatten()"
   ]
  },
  {
   "cell_type": "code",
   "execution_count": 286,
   "metadata": {},
   "outputs": [],
   "source": [
    "def plot_real(y1, y2):\n",
    "    plt.scatter(test_labels_real, test_labels_imag, color='black',label='Data')\n",
    "    plt.plot(y1, y2,  'o', color='red', label='Predictions')\n",
    "    plt.xlabel('x')\n",
    "    plt.ylabel('y')\n",
    "    plt.legend()"
   ]
  },
  {
   "cell_type": "code",
   "execution_count": 287,
   "metadata": {},
   "outputs": [
    {
     "data": {
      "image/png": "[encoded data removed]",
      "text/plain": [
       "<Figure size 432x288 with 1 Axes>"
      ]
     },
     "metadata": {
      "needs_background": "light"
     },
     "output_type": "display_data"
    }
   ],
   "source": [
    "plot_real(y1,y2)"
   ]
  },
  {
   "cell_type": "code",
   "execution_count": 288,
   "metadata": {},
   "outputs": [],
   "source": [
    "def square_mean_loss(lreal, limag, y1, y2):\n",
    "    total_loss = 0\n",
    "    real_array = lreal.to_numpy()\n",
    "    imag_array = limag.to_numpy()\n",
    "    for i in range(0,len(lreal)):\n",
    "        total_loss = (real_array[i] - y1[i])**2 + (imag_array[i] - y2[i])**2\n",
    "    mean_loss = total_loss/len(lreal)\n",
    "    return mean_loss"
   ]
  },
  {
   "cell_type": "code",
   "execution_count": 289,
   "metadata": {},
   "outputs": [
    {
     "name": "stdout",
     "output_type": "stream",
     "text": [
      "0.00002\n"
     ]
    }
   ],
   "source": [
    "loss = square_mean_loss(test_labels_real, test_labels_imag, y1, y2)\n",
    "print(\"%.5f\" % loss)"
   ]
  },
  {
   "cell_type": "code",
   "execution_count": 293,
   "metadata": {},
   "outputs": [
    {
     "name": "stdout",
     "output_type": "stream",
     "text": [
      "Model: \"sequential_28\"\n",
      "_________________________________________________________________\n",
      "Layer (type)                 Output Shape              Param #   \n",
      "=================================================================\n",
      "normalization_28 (Normalizat (None, 1)                 3         \n",
      "_________________________________________________________________\n",
      "dense_56 (Dense)             (None, 2)                 4         \n",
      "=================================================================\n",
      "Total params: 7\n",
      "Trainable params: 4\n",
      "Non-trainable params: 3\n",
      "_________________________________________________________________\n"
     ]
    }
   ],
   "source": [
    "test1 = np.array(train_features['real'])\n",
    "\n",
    "test1_normalizer = preprocessing.Normalization(input_shape=[1,])\n",
    "test1_normalizer.adapt(test1)\n",
    "\n",
    "test1_model = tf.keras.Sequential([\n",
    "    test1_normalizer,\n",
    "    layers.Dense(2)\n",
    "])\n",
    "\n",
    "test1_model.summary()"
   ]
  },
  {
   "cell_type": "code",
   "execution_count": 296,
   "metadata": {},
   "outputs": [
    {
     "ename": "NameError",
     "evalue": "name 'horsepower_model' is not defined",
     "traceback": [
      "\u001b[0;31m---------------------------------------------------------------------------\u001b[0m",
      "\u001b[0;31mNameError\u001b[0m                                 Traceback (most recent call last)",
      "\u001b[0;32m<ipython-input-296-67acd4784cb6>\u001b[0m in \u001b[0;36m<module>\u001b[0;34m\u001b[0m\n\u001b[0;32m----> 1\u001b[0;31m horsepower_model.compile(\n\u001b[0m\u001b[1;32m      2\u001b[0m     \u001b[0moptimizer\u001b[0m\u001b[0;34m=\u001b[0m\u001b[0mtf\u001b[0m\u001b[0;34m.\u001b[0m\u001b[0moptimizers\u001b[0m\u001b[0;34m.\u001b[0m\u001b[0mAdam\u001b[0m\u001b[0;34m(\u001b[0m\u001b[0mlearning_rate\u001b[0m\u001b[0;34m=\u001b[0m\u001b[0;36m0.1\u001b[0m\u001b[0;34m)\u001b[0m\u001b[0;34m,\u001b[0m\u001b[0;34m\u001b[0m\u001b[0;34m\u001b[0m\u001b[0m\n\u001b[1;32m      3\u001b[0m     loss='mean_absolute_error')\n",
      "\u001b[0;31mNameError\u001b[0m: name 'horsepower_model' is not defined"
     ],
     "output_type": "error"
    }
   ],
   "source": [
    "test1_model.compile(\n",
    "    optimizer=tf.optimizers.Adam(learning_rate=0.1),\n",
    "    loss='mean_absolute_error')\n",
    "\n",
    "history = test1_model.fit(\n",
    "    train_features['real'], train_,\n",
    "    epochs=100,\n",
    "    # suppress logging\n",
    "    verbose=0,\n",
    "    # Calculate validation results on 20% of the training data\n",
    "    validation_split = 0.2)\n",
    "\n",
    "hist = pd.DataFrame(history.history)\n",
    "hist['epoch'] = history.epoch\n",
    "hist.tail()\n",
    "\n",
    "test_results = {}\n",
    "\n",
    "test_results['horsepower_model'] = horsepower_model.evaluate(\n",
    "    test_features['Horsepower'],\n",
    "    test_labels, verbose=0)\n",
    "\n",
    "y = horsepower_model.predict(x)"
   ]
  },
  {
   "cell_type": "code",
   "execution_count": 297,
   "metadata": {},
   "outputs": [
    {
     "data": {
      "text/html": [
       "<div>\n",
       "<style scoped>\n",
       "    .dataframe tbody tr th:only-of-type {\n",
       "        vertical-align: middle;\n",
       "    }\n",
       "\n",
       "    .dataframe tbody tr th {\n",
       "        vertical-align: top;\n",
       "    }\n",
       "\n",
       "    .dataframe thead th {\n",
       "        text-align: right;\n",
       "    }\n",
       "</style>\n",
       "<table border=\"1\" class=\"dataframe\">\n",
       "  <thead>\n",
       "    <tr style=\"text-align: right;\">\n",
       "      <th></th>\n",
       "      <th>real</th>\n",
       "      <th>imag</th>\n",
       "      <th>snr</th>\n",
       "      <th>inr</th>\n",
       "      <th>cons</th>\n",
       "      <th>block</th>\n",
       "    </tr>\n",
       "  </thead>\n",
       "  <tbody>\n",
       "    <tr>\n",
       "      <th>0</th>\n",
       "      <td>15.612398</td>\n",
       "      <td>-53.722042</td>\n",
       "      <td>0.6</td>\n",
       "      <td>0.05</td>\n",
       "      <td>2</td>\n",
       "      <td>1</td>\n",
       "    </tr>\n",
       "    <tr>\n",
       "      <th>1</th>\n",
       "      <td>-14.334312</td>\n",
       "      <td>-61.907205</td>\n",
       "      <td>0.6</td>\n",
       "      <td>0.05</td>\n",
       "      <td>2</td>\n",
       "      <td>1</td>\n",
       "    </tr>\n",
       "    <tr>\n",
       "      <th>2</th>\n",
       "      <td>14.591993</td>\n",
       "      <td>15.121133</td>\n",
       "      <td>0.6</td>\n",
       "      <td>0.05</td>\n",
       "      <td>2</td>\n",
       "      <td>1</td>\n",
       "    </tr>\n",
       "    <tr>\n",
       "      <th>3</th>\n",
       "      <td>60.285168</td>\n",
       "      <td>21.412338</td>\n",
       "      <td>0.6</td>\n",
       "      <td>0.05</td>\n",
       "      <td>2</td>\n",
       "      <td>1</td>\n",
       "    </tr>\n",
       "    <tr>\n",
       "      <th>4</th>\n",
       "      <td>61.167053</td>\n",
       "      <td>-14.780646</td>\n",
       "      <td>0.6</td>\n",
       "      <td>0.05</td>\n",
       "      <td>2</td>\n",
       "      <td>1</td>\n",
       "    </tr>\n",
       "    <tr>\n",
       "      <th>...</th>\n",
       "      <td>...</td>\n",
       "      <td>...</td>\n",
       "      <td>...</td>\n",
       "      <td>...</td>\n",
       "      <td>...</td>\n",
       "      <td>...</td>\n",
       "    </tr>\n",
       "    <tr>\n",
       "      <th>175</th>\n",
       "      <td>59.630256</td>\n",
       "      <td>60.629573</td>\n",
       "      <td>0.6</td>\n",
       "      <td>0.05</td>\n",
       "      <td>2</td>\n",
       "      <td>6</td>\n",
       "    </tr>\n",
       "    <tr>\n",
       "      <th>176</th>\n",
       "      <td>59.590867</td>\n",
       "      <td>-60.540215</td>\n",
       "      <td>0.6</td>\n",
       "      <td>0.05</td>\n",
       "      <td>2</td>\n",
       "      <td>6</td>\n",
       "    </tr>\n",
       "    <tr>\n",
       "      <th>177</th>\n",
       "      <td>-23.993755</td>\n",
       "      <td>-16.349881</td>\n",
       "      <td>0.6</td>\n",
       "      <td>0.05</td>\n",
       "      <td>2</td>\n",
       "      <td>6</td>\n",
       "    </tr>\n",
       "    <tr>\n",
       "      <th>178</th>\n",
       "      <td>-22.785143</td>\n",
       "      <td>-22.468496</td>\n",
       "      <td>0.6</td>\n",
       "      <td>0.05</td>\n",
       "      <td>2</td>\n",
       "      <td>6</td>\n",
       "    </tr>\n",
       "    <tr>\n",
       "      <th>179</th>\n",
       "      <td>15.907850</td>\n",
       "      <td>60.088177</td>\n",
       "      <td>0.6</td>\n",
       "      <td>0.05</td>\n",
       "      <td>2</td>\n",
       "      <td>6</td>\n",
       "    </tr>\n",
       "  </tbody>\n",
       "</table>\n",
       "<p>150 rows × 6 columns</p>\n",
       "</div>"
      ],
      "text/plain": [
       "          real       imag  snr   inr  cons  block\n",
       "0    15.612398 -53.722042  0.6  0.05     2      1\n",
       "1   -14.334312 -61.907205  0.6  0.05     2      1\n",
       "2    14.591993  15.121133  0.6  0.05     2      1\n",
       "3    60.285168  21.412338  0.6  0.05     2      1\n",
       "4    61.167053 -14.780646  0.6  0.05     2      1\n",
       "..         ...        ...  ...   ...   ...    ...\n",
       "175  59.630256  60.629573  0.6  0.05     2      6\n",
       "176  59.590867 -60.540215  0.6  0.05     2      6\n",
       "177 -23.993755 -16.349881  0.6  0.05     2      6\n",
       "178 -22.785143 -22.468496  0.6  0.05     2      6\n",
       "179  15.907850  60.088177  0.6  0.05     2      6\n",
       "\n",
       "[150 rows x 6 columns]"
      ]
     },
     "execution_count": 297,
     "metadata": {},
     "output_type": "execute_result"
    }
   ],
   "source": [
    "train_features"
   ]
  },
  {
   "cell_type": "code",
   "execution_count": null,
   "metadata": {},
   "outputs": [],
   "source": []
  }
 ],
 "metadata": {
  "kernelspec": {
   "display_name": "Python 3",
   "language": "python",
   "name": "python3"
  },
  "language_info": {
   "codemirror_mode": {
    "name": "ipython",
    "version": 3
   },
   "file_extension": ".py",
   "mimetype": "text/x-python",
   "name": "python",
   "nbconvert_exporter": "python",
   "pygments_lexer": "ipython3",
   "version": "3.7.1"
  }
 },
 "nbformat": 4,
 "nbformat_minor": 2
}
