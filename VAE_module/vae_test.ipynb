{
 "cells": [
  {
   "cell_type": "code",
   "execution_count": 9,
   "metadata": {},
   "outputs": [],
   "source": [
    "import matplotlib.pyplot as plt\n",
    "import numpy as np\n",
    "import pandas as pd\n",
    "import tensorflow as tf\n",
    "\n",
    "from sklearn.metrics import accuracy_score, precision_score, recall_score\n",
    "from sklearn.model_selection import train_test_split\n",
    "from tensorflow.keras import layers, losses\n",
    "from tensorflow.keras.datasets import fashion_mnist\n",
    "from tensorflow.keras.models import Model\n",
    "import random"
   ]
  },
  {
   "cell_type": "code",
   "execution_count": 35,
   "metadata": {},
   "outputs": [],
   "source": [
    "def make_generator(blockSize):\n",
    "    model = tf.keras.Sequential()\n",
    "    model.add(layers.Conv2D(16, (5, 2), strides=(2, 2), activation=\"linear\", padding='same',\n",
    "                            input_shape=(blockSize, 2, 1)))\n",
    "    model.add(layers.Conv2D(8, (5, 1), activation=\"linear\", padding='same'))\n",
    "    model.add(layers.Conv2DTranspose(8, kernel_size=(5, 1), activation='linear', padding='same'))\n",
    "    model.add(layers.Conv2DTranspose(16, kernel_size=(5, 2), strides=(2, 2), activation='linear', padding='same'))\n",
    "    model.add(layers.Conv2D(1, kernel_size=(3, 3), activation='linear', padding='same'))\n",
    "    return model"
   ]
  },
  {
   "cell_type": "code",
   "execution_count": 36,
   "metadata": {},
   "outputs": [
    {
     "name": "stdout",
     "output_type": "stream",
     "text": [
      "Model: \"sequential_12\"\n",
      "_________________________________________________________________\n",
      "Layer (type)                 Output Shape              Param #   \n",
      "=================================================================\n",
      "conv2d_34 (Conv2D)           (None, 25, 1, 16)         176       \n",
      "_________________________________________________________________\n",
      "conv2d_35 (Conv2D)           (None, 25, 1, 8)          648       \n",
      "_________________________________________________________________\n",
      "conv2d_transpose_20 (Conv2DT (None, 25, 1, 8)          328       \n",
      "_________________________________________________________________\n",
      "conv2d_transpose_21 (Conv2DT (None, 50, 2, 16)         1296      \n",
      "_________________________________________________________________\n",
      "conv2d_36 (Conv2D)           (None, 50, 2, 1)          145       \n",
      "=================================================================\n",
      "Total params: 2,593\n",
      "Trainable params: 2,593\n",
      "Non-trainable params: 0\n",
      "_________________________________________________________________\n"
     ]
    }
   ],
   "source": [
    "test = make_generator(50)\n",
    "test.summary()"
   ]
  },
  {
   "cell_type": "code",
   "execution_count": null,
   "metadata": {},
   "outputs": [],
   "source": []
  }
 ],
 "metadata": {
  "kernelspec": {
   "display_name": "Python 3",
   "language": "python",
   "name": "python3"
  },
  "language_info": {
   "codemirror_mode": {
    "name": "ipython",
    "version": 3
   },
   "file_extension": ".py",
   "mimetype": "text/x-python",
   "name": "python",
   "nbconvert_exporter": "python",
   "pygments_lexer": "ipython3",
   "version": "3.7.1"
  }
 },
 "nbformat": 4,
 "nbformat_minor": 4
}
