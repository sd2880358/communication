{
 "cells": [
  {
   "cell_type": "code",
   "execution_count": 159,
   "metadata": {},
   "outputs": [],
   "source": [
    "import tensorflow as tf\n",
    "\n",
    "from tensorflow.keras import datasets, layers, models\n",
    "import matplotlib.pyplot as plt\n",
    "from tensorflow.keras import layers, losses"
   ]
  },
  {
   "cell_type": "code",
   "execution_count": 160,
   "metadata": {},
   "outputs": [],
   "source": [
    "def dataset(dataFile, labelFile):\n",
    "    dataFile = \"../communication/\" + dataFile\n",
    "    labelFile = \"../communication/\" + labelFile\n",
    "    my_data = sc.loadmat(dataFile)\n",
    "    my_labels = sc.loadmat(labelFile)\n",
    "    my_data = my_data['Y']\n",
    "    X = my_labels['L_S_x']\n",
    "    myOrig = table_data(my_data, my_labels['L_Constellations'][0], X)\n",
    "    mytable = assign_label(myOrig)\n",
    "    return mytable\n",
    "\n",
    "\n",
    "def assign_label(data):\n",
    "    c_4 = [1,-1]\n",
    "    c_16 = [3,1,-1,-3]\n",
    "    c_16r = [-3,-1,1,3]\n",
    "    cons_4 = np.dot(np.sqrt(0.5),[complex(i,j)for i in c_4 for j in c_4])\n",
    "    cons_16 = np.array([complex(i,j)for j in c_16 for i in c_16r])\n",
    "    cons_16 = cons_16/np.sqrt(np.mean(np.abs(cons_16)**2))\n",
    "    cons4 = data[data.cons==1]\n",
    "    cons4_label = np.array([[cons_4[i-1]]for i in cons4.label])\n",
    "    cons16 = data[data.cons==2]\n",
    "    cons16_label = np.array([[cons_16[i-1]]for i in cons16.label.to_numpy().real.astype(int)])\n",
    "    data[data.cons==2].index\n",
    "    data['buffer'] = 0\n",
    "    data['buffer'] = 0\n",
    "    data.iloc[data[data.cons==1].index, 5] = cons4_label\n",
    "    data.iloc[data[data.cons==2].index, 5] = cons16_label\n",
    "    data['label_real'] = data.buffer.to_numpy().real\n",
    "    data['label_imag'] = data.buffer.to_numpy().imag\n",
    "    myTest = data.copy()\n",
    "    myTest.loc[myTest.cons == 2, 'label'] = myTest.loc[myTest.cons == 2, 'label'] + 4\n",
    "    myTest.label = myTest.label - 1\n",
    "    return myTest\n",
    "\n",
    "\n",
    "def table_data(my_data, cons, label):\n",
    "    block = my_data.shape[1]\n",
    "    my_data_size = my_data.shape[0] * block\n",
    "    my_data_div = my_data.T.reshape(my_data_size, )\n",
    "    cons_array = np.array([[cons[i]] * my_data.shape[0] for i in range(0, block)]).reshape(my_data_size, )\n",
    "    block_array = np.array([([i + 1] * my_data.shape[0]) for i in range(0, block)]).reshape(my_data_size, )\n",
    "    label_array = label.T.reshape(my_data_size, )\n",
    "    test_pd = pd.DataFrame({'real': my_data_div.real, 'imag': my_data_div.imag,\n",
    "                            'cons': cons_array, 'block': block_array,\n",
    "                            'label': label_array})\n",
    "    return test_pd"
   ]
  },
  {
   "cell_type": "code",
   "execution_count": 161,
   "metadata": {},
   "outputs": [],
   "source": [
    "model = models.Sequential()\n",
    "model.add(layers.Conv2D(32, (1, 1), activation='relu', input_shape=(1, 50, 2)))\n",
    "model.add(layers.MaxPooling2D((1, 1)))\n",
    "model.add(layers.Conv2D(64, (1, 1), activation='relu'))\n",
    "model.add(layers.MaxPooling2D((1, 1)))\n",
    "model.add(layers.Conv2D(64, (1, 1), activation='relu'))\n",
    "model.add(layers.Dense(64, activation='relu'))\n",
    "model.add(layers.Dense(2))"
   ]
  },
  {
   "cell_type": "code",
   "execution_count": 162,
   "metadata": {},
   "outputs": [
    {
     "name": "stdout",
     "output_type": "stream",
     "text": [
      "Model: \"sequential_28\"\n",
      "_________________________________________________________________\n",
      "Layer (type)                 Output Shape              Param #   \n",
      "=================================================================\n",
      "conv2d_67 (Conv2D)           (None, 1, 50, 32)         96        \n",
      "_________________________________________________________________\n",
      "max_pooling2d_45 (MaxPooling (None, 1, 50, 32)         0         \n",
      "_________________________________________________________________\n",
      "conv2d_68 (Conv2D)           (None, 1, 50, 64)         2112      \n",
      "_________________________________________________________________\n",
      "max_pooling2d_46 (MaxPooling (None, 1, 50, 64)         0         \n",
      "_________________________________________________________________\n",
      "conv2d_69 (Conv2D)           (None, 1, 50, 64)         4160      \n",
      "_________________________________________________________________\n",
      "dense_33 (Dense)             (None, 1, 50, 64)         4160      \n",
      "_________________________________________________________________\n",
      "dense_34 (Dense)             (None, 1, 50, 2)          130       \n",
      "=================================================================\n",
      "Total params: 10,658\n",
      "Trainable params: 10,658\n",
      "Non-trainable params: 0\n",
      "_________________________________________________________________\n"
     ]
    }
   ],
   "source": [
    "model.summary()"
   ]
  },
  {
   "cell_type": "code",
   "execution_count": 163,
   "metadata": {},
   "outputs": [],
   "source": [
    "data1 = \"intermediate\"\n",
    "data1_label = \"intermediate_label\"\n",
    "data = dataset(data1, data1_label)\n",
    "test_feature = data.loc[:, ('real', 'imag')]\n",
    "test_label = data.loc[:, ('label')]"
   ]
  },
  {
   "cell_type": "code",
   "execution_count": 168,
   "metadata": {},
   "outputs": [],
   "source": [
    "\n",
    "def shuffle_data(my_table):\n",
    "    real_y = (2*my_table.real.min())/(my_table.real.max() - my_table.real.min()) + 1\n",
    "    real_x = (my_table.real.max()) / (1 + real_y)\n",
    "    imag_y = (2*my_table.imag.min())/(my_table.imag.max() - my_table.imag.min()) + 1\n",
    "    imag_x = (my_table.imag.max()) / (1 + imag_y)\n",
    "    my_table.real = (my_table.real / real_x) - real_y\n",
    "    my_table.imag = (my_table.imag/ imag_x) - imag_y\n",
    "    train_feature = data.loc[:, ('real', 'imag')]\n",
    "    train_label = data.loc[:, ('label_real', 'label_imag')]\n",
    "    test_feature = tf.cast(train_feature, tf.float32)\n",
    "    test_label = tf.cast(train_label, tf.float32)\n",
    "    test_feature = tf.reshape(test_feature,(1000,1,50,2))\n",
    "    test_label = tf.reshape(test_label, (1000,1,50,2))\n",
    "    symbol = data.loc[:, 'label']\n",
    "    symbol = tf.reshape(symbol, (1000,1, 50))\n",
    "    return test_feature, test_label, symbol \n",
    "f, l, s = shuffle_data(data)"
   ]
  },
  {
   "cell_type": "code",
   "execution_count": 170,
   "metadata": {},
   "outputs": [],
   "source": [
    "model.compile(optimizer='adam',\n",
    "              loss=losses.MeanSquaredError(),\n",
    "              metrics=['accuracy'])\n",
    "\n",
    "history = model.fit(f, l, epochs=100, verbose=0,\n",
    "                    validation_data=(f,l))"
   ]
  },
  {
   "cell_type": "code",
   "execution_count": 174,
   "metadata": {},
   "outputs": [
    {
     "data": {
      "text/plain": [
       "<tf.Tensor: shape=(1000, 1, 50, 2), dtype=float32, numpy=\n",
       "array([[[[-0.0102604 ,  0.06628162],\n",
       "         [ 0.09593235,  0.2152045 ],\n",
       "         [ 0.13759133,  0.00980037],\n",
       "         ...,\n",
       "         [-0.07430749, -0.03014982],\n",
       "         [-0.21451658,  0.12002581],\n",
       "         [-0.00107819,  0.05392471]]],\n",
       "\n",
       "\n",
       "       [[[-0.12381387,  0.22808382],\n",
       "         [ 0.11855122, -0.11230254],\n",
       "         [ 0.27810884,  0.28997636],\n",
       "         ...,\n",
       "         [ 0.2774505 ,  0.31010514],\n",
       "         [ 0.4932934 , -0.55977273],\n",
       "         [ 0.29168415,  0.31401515]]],\n",
       "\n",
       "\n",
       "       [[[-0.03494102, -0.03355402],\n",
       "         [ 0.04014957,  0.01298958],\n",
       "         [-0.01706928,  0.6383614 ],\n",
       "         ...,\n",
       "         [-0.0067504 , -0.01555538],\n",
       "         [-0.04575378, -0.04732859],\n",
       "         [-0.7121883 , -0.70578605]]],\n",
       "\n",
       "\n",
       "       ...,\n",
       "\n",
       "\n",
       "       [[[-0.23082545,  0.13949963],\n",
       "         [ 0.02439988,  0.01330197],\n",
       "         [ 0.06255478,  0.00376976],\n",
       "         ...,\n",
       "         [ 0.4127722 ,  0.40425643],\n",
       "         [ 0.03465679, -0.01480031],\n",
       "         [ 0.28758678, -0.30757007]]],\n",
       "\n",
       "\n",
       "       [[[ 0.00948161, -0.14207833],\n",
       "         [-0.20026487,  0.36631322],\n",
       "         [-0.14255664,  0.02514255],\n",
       "         ...,\n",
       "         [ 0.18383268,  0.06324631],\n",
       "         [-0.0451321 ,  0.11243969],\n",
       "         [ 0.04090041,  0.01650834]]],\n",
       "\n",
       "\n",
       "       [[[ 0.01010996, -0.7893936 ],\n",
       "         [-0.00222784, -0.6886415 ],\n",
       "         [ 0.02673054, -0.7368029 ],\n",
       "         ...,\n",
       "         [ 0.04764664, -0.01187855],\n",
       "         [-0.02022415, -0.708995  ],\n",
       "         [-0.00984532,  0.6743553 ]]]], dtype=float32)>"
      ]
     },
     "execution_count": 174,
     "metadata": {},
     "output_type": "execute_result"
    }
   ],
   "source": [
    "model(f) - l"
   ]
  },
  {
   "cell_type": "code",
   "execution_count": 167,
   "metadata": {},
   "outputs": [
    {
     "data": {
      "text/plain": [
       "TensorShape([1000, 50, 2])"
      ]
     },
     "execution_count": 167,
     "metadata": {},
     "output_type": "execute_result"
    }
   ],
   "source": [
    "l.shape"
   ]
  },
  {
   "cell_type": "code",
   "execution_count": 118,
   "metadata": {},
   "outputs": [
    {
     "data": {
      "text/plain": [
       "TensorShape([1000, 50, 2, 1])"
      ]
     },
     "execution_count": 118,
     "metadata": {},
     "output_type": "execute_result"
    }
   ],
   "source": [
    "f.shape"
   ]
  },
  {
   "cell_type": "code",
   "execution_count": null,
   "metadata": {},
   "outputs": [],
   "source": []
  }
 ],
 "metadata": {
  "kernelspec": {
   "display_name": "Python 3",
   "language": "python",
   "name": "python3"
  },
  "language_info": {
   "codemirror_mode": {
    "name": "ipython",
    "version": 3
   },
   "file_extension": ".py",
   "mimetype": "text/x-python",
   "name": "python",
   "nbconvert_exporter": "python",
   "pygments_lexer": "ipython3",
   "version": "3.7.1"
  }
 },
 "nbformat": 4,
 "nbformat_minor": 4
}
