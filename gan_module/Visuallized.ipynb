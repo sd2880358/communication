{
 "cells": [
  {
   "cell_type": "code",
   "execution_count": 2,
   "metadata": {},
   "outputs": [],
   "source": [
    "import pandas as pd\n",
    "import tensorflow as tf\n",
    "import matplotlib.pyplot as plt\n",
    "import numpy as np"
   ]
  },
  {
   "cell_type": "code",
   "execution_count": 156,
   "metadata": {},
   "outputs": [],
   "source": [
    "data = pd.read_csv('test_result.csv')\n",
    "predicted_cons = []\n",
    "for i in range(len(data)):\n",
    "    if data.prediction[i] in [j for j in range(0,4)]:\n",
    "        predicted_cons.append(1)\n",
    "    else:\n",
    "        predicted_cons.append(2)\n",
    "test = data.assign(predicted_cons=predicted_cons)"
   ]
  },
  {
   "cell_type": "code",
   "execution_count": 48,
   "metadata": {},
   "outputs": [
    {
     "data": {
      "text/html": [
       "<div>\n",
       "<style scoped>\n",
       "    .dataframe tbody tr th:only-of-type {\n",
       "        vertical-align: middle;\n",
       "    }\n",
       "\n",
       "    .dataframe tbody tr th {\n",
       "        vertical-align: top;\n",
       "    }\n",
       "\n",
       "    .dataframe thead th {\n",
       "        text-align: right;\n",
       "    }\n",
       "</style>\n",
       "<table border=\"1\" class=\"dataframe\">\n",
       "  <thead>\n",
       "    <tr style=\"text-align: right;\">\n",
       "      <th></th>\n",
       "      <th>real</th>\n",
       "      <th>imag</th>\n",
       "      <th>cons</th>\n",
       "      <th>block</th>\n",
       "      <th>label</th>\n",
       "      <th>interference</th>\n",
       "      <th>buffer</th>\n",
       "      <th>label_real</th>\n",
       "      <th>label_imag</th>\n",
       "      <th>prediction</th>\n",
       "    </tr>\n",
       "  </thead>\n",
       "  <tbody>\n",
       "    <tr>\n",
       "      <th>0</th>\n",
       "      <td>0.120629</td>\n",
       "      <td>0.117264</td>\n",
       "      <td>2</td>\n",
       "      <td>1</td>\n",
       "      <td>10</td>\n",
       "      <td>1</td>\n",
       "      <td>(0.31622776601683794+0.31622776601683794j)</td>\n",
       "      <td>0.316228</td>\n",
       "      <td>0.316228</td>\n",
       "      <td>10</td>\n",
       "    </tr>\n",
       "    <tr>\n",
       "      <th>1</th>\n",
       "      <td>-0.038891</td>\n",
       "      <td>0.152451</td>\n",
       "      <td>2</td>\n",
       "      <td>1</td>\n",
       "      <td>9</td>\n",
       "      <td>1</td>\n",
       "      <td>(-0.31622776601683794+0.31622776601683794j)</td>\n",
       "      <td>-0.316228</td>\n",
       "      <td>0.316228</td>\n",
       "      <td>9</td>\n",
       "    </tr>\n",
       "    <tr>\n",
       "      <th>2</th>\n",
       "      <td>0.481826</td>\n",
       "      <td>-0.876530</td>\n",
       "      <td>2</td>\n",
       "      <td>1</td>\n",
       "      <td>19</td>\n",
       "      <td>1</td>\n",
       "      <td>(0.9486832980505138-0.9486832980505138j)</td>\n",
       "      <td>0.948683</td>\n",
       "      <td>-0.948683</td>\n",
       "      <td>19</td>\n",
       "    </tr>\n",
       "    <tr>\n",
       "      <th>3</th>\n",
       "      <td>0.533483</td>\n",
       "      <td>-0.142285</td>\n",
       "      <td>2</td>\n",
       "      <td>1</td>\n",
       "      <td>15</td>\n",
       "      <td>1</td>\n",
       "      <td>(0.9486832980505138-0.31622776601683794j)</td>\n",
       "      <td>0.948683</td>\n",
       "      <td>-0.316228</td>\n",
       "      <td>15</td>\n",
       "    </tr>\n",
       "    <tr>\n",
       "      <th>4</th>\n",
       "      <td>0.421070</td>\n",
       "      <td>0.472924</td>\n",
       "      <td>2</td>\n",
       "      <td>1</td>\n",
       "      <td>10</td>\n",
       "      <td>1</td>\n",
       "      <td>(0.31622776601683794+0.31622776601683794j)</td>\n",
       "      <td>0.316228</td>\n",
       "      <td>0.316228</td>\n",
       "      <td>6</td>\n",
       "    </tr>\n",
       "    <tr>\n",
       "      <th>...</th>\n",
       "      <td>...</td>\n",
       "      <td>...</td>\n",
       "      <td>...</td>\n",
       "      <td>...</td>\n",
       "      <td>...</td>\n",
       "      <td>...</td>\n",
       "      <td>...</td>\n",
       "      <td>...</td>\n",
       "      <td>...</td>\n",
       "      <td>...</td>\n",
       "    </tr>\n",
       "    <tr>\n",
       "      <th>9595</th>\n",
       "      <td>-0.167899</td>\n",
       "      <td>-0.299525</td>\n",
       "      <td>2</td>\n",
       "      <td>993</td>\n",
       "      <td>13</td>\n",
       "      <td>0</td>\n",
       "      <td>(-0.31622776601683794-0.31622776601683794j)</td>\n",
       "      <td>-0.316228</td>\n",
       "      <td>-0.316228</td>\n",
       "      <td>13</td>\n",
       "    </tr>\n",
       "    <tr>\n",
       "      <th>9596</th>\n",
       "      <td>-0.568121</td>\n",
       "      <td>0.242732</td>\n",
       "      <td>2</td>\n",
       "      <td>993</td>\n",
       "      <td>8</td>\n",
       "      <td>0</td>\n",
       "      <td>(-0.9486832980505138+0.31622776601683794j)</td>\n",
       "      <td>-0.948683</td>\n",
       "      <td>0.316228</td>\n",
       "      <td>8</td>\n",
       "    </tr>\n",
       "    <tr>\n",
       "      <th>9597</th>\n",
       "      <td>-0.157070</td>\n",
       "      <td>-0.660922</td>\n",
       "      <td>2</td>\n",
       "      <td>993</td>\n",
       "      <td>17</td>\n",
       "      <td>0</td>\n",
       "      <td>(-0.31622776601683794-0.9486832980505138j)</td>\n",
       "      <td>-0.316228</td>\n",
       "      <td>-0.948683</td>\n",
       "      <td>17</td>\n",
       "    </tr>\n",
       "    <tr>\n",
       "      <th>9598</th>\n",
       "      <td>-0.210914</td>\n",
       "      <td>-0.207288</td>\n",
       "      <td>2</td>\n",
       "      <td>993</td>\n",
       "      <td>13</td>\n",
       "      <td>0</td>\n",
       "      <td>(-0.31622776601683794-0.31622776601683794j)</td>\n",
       "      <td>-0.316228</td>\n",
       "      <td>-0.316228</td>\n",
       "      <td>13</td>\n",
       "    </tr>\n",
       "    <tr>\n",
       "      <th>9599</th>\n",
       "      <td>-0.612362</td>\n",
       "      <td>0.321020</td>\n",
       "      <td>2</td>\n",
       "      <td>993</td>\n",
       "      <td>8</td>\n",
       "      <td>0</td>\n",
       "      <td>(-0.9486832980505138+0.31622776601683794j)</td>\n",
       "      <td>-0.948683</td>\n",
       "      <td>0.316228</td>\n",
       "      <td>8</td>\n",
       "    </tr>\n",
       "  </tbody>\n",
       "</table>\n",
       "<p>9600 rows × 10 columns</p>\n",
       "</div>"
      ],
      "text/plain": [
       "          real      imag  cons  block  label  interference  \\\n",
       "0     0.120629  0.117264     2      1     10             1   \n",
       "1    -0.038891  0.152451     2      1      9             1   \n",
       "2     0.481826 -0.876530     2      1     19             1   \n",
       "3     0.533483 -0.142285     2      1     15             1   \n",
       "4     0.421070  0.472924     2      1     10             1   \n",
       "...        ...       ...   ...    ...    ...           ...   \n",
       "9595 -0.167899 -0.299525     2    993     13             0   \n",
       "9596 -0.568121  0.242732     2    993      8             0   \n",
       "9597 -0.157070 -0.660922     2    993     17             0   \n",
       "9598 -0.210914 -0.207288     2    993     13             0   \n",
       "9599 -0.612362  0.321020     2    993      8             0   \n",
       "\n",
       "                                           buffer  label_real  label_imag  \\\n",
       "0      (0.31622776601683794+0.31622776601683794j)    0.316228    0.316228   \n",
       "1     (-0.31622776601683794+0.31622776601683794j)   -0.316228    0.316228   \n",
       "2        (0.9486832980505138-0.9486832980505138j)    0.948683   -0.948683   \n",
       "3       (0.9486832980505138-0.31622776601683794j)    0.948683   -0.316228   \n",
       "4      (0.31622776601683794+0.31622776601683794j)    0.316228    0.316228   \n",
       "...                                           ...         ...         ...   \n",
       "9595  (-0.31622776601683794-0.31622776601683794j)   -0.316228   -0.316228   \n",
       "9596   (-0.9486832980505138+0.31622776601683794j)   -0.948683    0.316228   \n",
       "9597   (-0.31622776601683794-0.9486832980505138j)   -0.316228   -0.948683   \n",
       "9598  (-0.31622776601683794-0.31622776601683794j)   -0.316228   -0.316228   \n",
       "9599   (-0.9486832980505138+0.31622776601683794j)   -0.948683    0.316228   \n",
       "\n",
       "      prediction  \n",
       "0             10  \n",
       "1              9  \n",
       "2             19  \n",
       "3             15  \n",
       "4              6  \n",
       "...          ...  \n",
       "9595          13  \n",
       "9596           8  \n",
       "9597          17  \n",
       "9598          13  \n",
       "9599           8  \n",
       "\n",
       "[9600 rows x 10 columns]"
      ]
     },
     "execution_count": 48,
     "metadata": {},
     "output_type": "execute_result"
    }
   ],
   "source": [
    "data"
   ]
  },
  {
   "cell_type": "markdown",
   "metadata": {},
   "source": [
    "# 1 \n",
    "- P(Constellation Error | Constellation = 4QAM)\n",
    "- P(Constellation Error | Constellation = 16QAM)"
   ]
  },
  {
   "cell_type": "code",
   "execution_count": 43,
   "metadata": {},
   "outputs": [],
   "source": [
    "real_label = data.label\n",
    "pred_label = data.prediction"
   ]
  },
  {
   "cell_type": "code",
   "execution_count": 44,
   "metadata": {},
   "outputs": [],
   "source": [
    "cf = tf.math.confusion_matrix(real_label, pred_label).numpy()\n",
    "cf = pd.DataFrame(cf)"
   ]
  },
  {
   "cell_type": "code",
   "execution_count": 247,
   "metadata": {},
   "outputs": [],
   "source": [
    "cons_4 = test[test.cons==1]\n",
    "cons_16 = test[test.cons==2]\n",
    "total_cons_error = cons_4_error + cons_16_error\n",
    "cons_4_error_rate = cons_4_error / total_cons_error\n",
    "cons_16_error_rate = cons_16_error / total_cons_error"
   ]
  },
  {
   "cell_type": "code",
   "execution_count": 249,
   "metadata": {},
   "outputs": [
    {
     "name": "stdout",
     "output_type": "stream",
     "text": [
      "CONS_ERROR|4QAM  IS:  0.6870540265035678\n",
      "CONS_ERROR|TOTAL IS:  0.3129459734964322\n"
     ]
    }
   ],
   "source": [
    "print(\"CONS_ERROR|4QAM  IS: \", cons_4_error_rate)\n",
    "print(\"CONS_ERROR|16QAM IS: \", cons_16_error_rate)"
   ]
  },
  {
   "cell_type": "markdown",
   "metadata": {},
   "source": [
    "# 2\n",
    "- P(Constellation Error | Interference)\n",
    "- P(Constellation Error | No Interference)"
   ]
  },
  {
   "cell_type": "code",
   "execution_count": 181,
   "metadata": {},
   "outputs": [],
   "source": [
    "data_with_ins = data[data.interference==1]\n",
    "ins_label = data_with_ins.label\n",
    "ins_prediction = data_with_ins.prediction\n",
    "cons_error = sum(test.cons!=test.predicted_cons)"
   ]
  },
  {
   "cell_type": "code",
   "execution_count": 50,
   "metadata": {},
   "outputs": [],
   "source": [
    "cf_ins = tf.math.confusion_matrix(cons_label, cons_prediction).numpy()\n",
    "cf_ins = pd.DataFrame(cf_cons)"
   ]
  },
  {
   "cell_type": "code",
   "execution_count": 182,
   "metadata": {},
   "outputs": [],
   "source": [
    "interference_data = test[data.interference==1]\n",
    "interference_cons_error = sum(interference_data.cons!=interference_data.predicted_cons)\n",
    "n_interference_data = test[data.interference==0]\n",
    "n_interference_cons_error = sum(n_interference_data.cons!=n_interference_data.predicted_cons)\n",
    "interference_cons_error_rate = interference_cons_error / cons_error\n",
    "n_interference_cons_error_rate = n_interference_cons_error / cons_error"
   ]
  },
  {
   "cell_type": "code",
   "execution_count": 183,
   "metadata": {},
   "outputs": [
    {
     "name": "stdout",
     "output_type": "stream",
     "text": [
      "CONS_ERROR|Interference is:  0.8868501529051988\n",
      "CONS_ERROR|No Interference is:  0.11314984709480122\n"
     ]
    }
   ],
   "source": [
    "print(\"CONS_ERROR|Interference is: \", interference_cons_error_rate)\n",
    "print(\"CONS_ERROR|No Interference is: \", n_interference_cons_error_rate)"
   ]
  },
  {
   "cell_type": "markdown",
   "metadata": {},
   "source": [
    "# 3\n",
    "- P(Symbol Error | Constellation = 4QAM AND correct constellation decision)\n",
    "- P(Symbol Error | Constellation = 16QAM AND correct constellation decision)"
   ]
  },
  {
   "cell_type": "code",
   "execution_count": 184,
   "metadata": {},
   "outputs": [],
   "source": [
    "cons_4_data = test[test.cons==1]\n",
    "cons_16_data = test[test.cons==2]"
   ]
  },
  {
   "cell_type": "code",
   "execution_count": 185,
   "metadata": {},
   "outputs": [],
   "source": [
    "cons_4_symbol_error = sum(cons_4_data.label!=cons_4_data.prediction)\n",
    "cons_16_symbol_error = sum(cons_16_data.label!=cons_16_data.prediction)"
   ]
  },
  {
   "cell_type": "code",
   "execution_count": 197,
   "metadata": {},
   "outputs": [],
   "source": [
    "cons_4_symbol_error_cons_correct = cons_4_data[cons_4_data.label!=cons_4_data.prediction]\n",
    "cons_4_symbol_error_cons_correct = cons_4_symbol_error_cons_correct[cons_4_symbol_error_cons_correct.cons ==\n",
    "                                                                   cons_4_symbol_error_cons_correct.predicted_cons]\n",
    "cons_16_symbol_error_cons_correct = cons_16_data[cons_16_data.label!=cons_16_data.prediction]\n",
    "cons_16_symbol_error_cons_correct = cons_16_symbol_error_cons_correct[cons_16_symbol_error_cons_correct.cons ==\n",
    "                                                                   cons_16_symbol_error_cons_correct.predicted_cons]"
   ]
  },
  {
   "cell_type": "code",
   "execution_count": 198,
   "metadata": {},
   "outputs": [],
   "source": [
    "p_cons_4_symbolError_consCorrect_rate = len(cons_4_symbol_error_cons_correct) / total_error\n",
    "p_cons_16_symbolError_consCorrect_rate = len(cons_16_symbol_error_cons_correct) / total_error"
   ]
  },
  {
   "cell_type": "code",
   "execution_count": 199,
   "metadata": {},
   "outputs": [
    {
     "name": "stdout",
     "output_type": "stream",
     "text": [
      "P(Symbol Error | Constellation = 4QAM AND correct constellation decision) =  0.0\n",
      "P(Symbol Error | Constellation = 16QAM AND correct constellation decision) =  0.3795066413662239\n"
     ]
    }
   ],
   "source": [
    "print(\"P(Symbol Error | Constellation = 4QAM AND correct constellation decision) = \", \n",
    "     p_cons_4_symbolError_consCorrect_rate)\n",
    "print(\"P(Symbol Error | Constellation = 16QAM AND correct constellation decision) = \",\n",
    "     p_cons_16_symbolError_consCorrect_rate)"
   ]
  },
  {
   "cell_type": "markdown",
   "metadata": {},
   "source": [
    "# 4\n",
    "- P(Symbol Error | Interference AND correct constellation decision)\n",
    "- P(Symbol Error | No Interference AND correct constellation decision)"
   ]
  },
  {
   "cell_type": "code",
   "execution_count": 200,
   "metadata": {},
   "outputs": [],
   "source": [
    "interference_data = test[test.interference==1]"
   ]
  },
  {
   "cell_type": "code",
   "execution_count": 201,
   "metadata": {},
   "outputs": [],
   "source": [
    "interference_correct_cons = interference_data[interference_data.cons==interference_data.predicted_cons]"
   ]
  },
  {
   "cell_type": "code",
   "execution_count": 203,
   "metadata": {},
   "outputs": [],
   "source": [
    "cons_correct_symbol_error = interference_correct_cons[interference_correct_cons.label!=\n",
    "                                                      interference_correct_cons.prediction]"
   ]
  },
  {
   "cell_type": "code",
   "execution_count": 205,
   "metadata": {},
   "outputs": [],
   "source": [
    "cons_correct_symbol_error_rate = len(cons_correct_symbol_error)/total_error"
   ]
  },
  {
   "cell_type": "code",
   "execution_count": 210,
   "metadata": {},
   "outputs": [],
   "source": [
    "n_interference_data = test[test.interference==0]\n",
    "n_interference_symbol_error = n_interference_data[n_interference_data.label!=\n",
    "                                                n_interference_data.prediction]\n",
    "n_cons_correct_symbol_error = n_interference_symbol_error[n_interference_symbol_error.cons==\n",
    "                                                      n_interference_symbol_error.predicted_cons]\n",
    "n_cons_correct_symbol_error_rate = len(n_cons_correct_symbol_error)/total_error"
   ]
  },
  {
   "cell_type": "code",
   "execution_count": 211,
   "metadata": {
    "scrolled": true
   },
   "outputs": [
    {
     "name": "stdout",
     "output_type": "stream",
     "text": [
      "P(Symbol Error | Interference AND correct constellation decision) =  0.3788741302972802\n",
      "P(Symbol Error | No Interference AND correct constellation decision) =  0.0006325110689437065\n"
     ]
    }
   ],
   "source": [
    "print(\"P(Symbol Error | Interference AND correct constellation decision) = \", \n",
    "      cons_correct_symbol_error_rate)\n",
    "print(\"P(Symbol Error | No Interference AND correct constellation decision) = \", \n",
    "     n_cons_correct_symbol_error_rate)"
   ]
  },
  {
   "cell_type": "markdown",
   "metadata": {},
   "source": [
    "# 5\n",
    "- P(Interference | Constellation Error)\n",
    "- P(Interference | No Constellation Error)"
   ]
  },
  {
   "cell_type": "code",
   "execution_count": 167,
   "metadata": {},
   "outputs": [],
   "source": [
    "interference_data = test[test.interference==1]\n",
    "interference_cons_error = sum(interference_data.cons!=interference_data.predicted_cons)"
   ]
  },
  {
   "cell_type": "code",
   "execution_count": 212,
   "metadata": {},
   "outputs": [],
   "source": [
    "interference_cons_error_rate = interference_cons_error/len(interference_data)"
   ]
  },
  {
   "cell_type": "code",
   "execution_count": 214,
   "metadata": {},
   "outputs": [],
   "source": [
    "interference_cons_n_error = sum(interference_data.cons==interference_data.predicted_cons)"
   ]
  },
  {
   "cell_type": "code",
   "execution_count": 215,
   "metadata": {},
   "outputs": [],
   "source": [
    "interference_cons_n_error_rate = interference_cons_n_error/len(interference_data)"
   ]
  },
  {
   "cell_type": "code",
   "execution_count": 216,
   "metadata": {},
   "outputs": [
    {
     "name": "stdout",
     "output_type": "stream",
     "text": [
      "P(Interference | Constellation Error) =  0.12253521126760564\n",
      "P(Interference | No Constellation Error) =  0.8774647887323944\n"
     ]
    }
   ],
   "source": [
    "print(\"P(Interference | Constellation Error) = \", interference_cons_error_rate)\n",
    "print(\"P(Interference | No Constellation Error) = \", interference_cons_n_error_rate)"
   ]
  },
  {
   "cell_type": "code",
   "execution_count": 82,
   "metadata": {},
   "outputs": [],
   "source": [
    "result = \"./result/method\"\n",
    "test_result = []\n",
    "for i in range(1,11):\n",
    "    i = str(i)\n",
    "    data = pd.read_csv(result+i)\n",
    "    test_result.append(data)\n",
    "test = pd.concat(test_result, ignore_index=True)"
   ]
  },
  {
   "cell_type": "code",
   "execution_count": 83,
   "metadata": {},
   "outputs": [],
   "source": [
    "test.index += 1"
   ]
  },
  {
   "cell_type": "code",
   "execution_count": 84,
   "metadata": {
    "scrolled": true
   },
   "outputs": [
    {
     "data": {
      "text/html": [
       "<div>\n",
       "<style scoped>\n",
       "    .dataframe tbody tr th:only-of-type {\n",
       "        vertical-align: middle;\n",
       "    }\n",
       "\n",
       "    .dataframe tbody tr th {\n",
       "        vertical-align: top;\n",
       "    }\n",
       "\n",
       "    .dataframe thead th {\n",
       "        text-align: right;\n",
       "    }\n",
       "</style>\n",
       "<table border=\"1\" class=\"dataframe\">\n",
       "  <thead>\n",
       "    <tr style=\"text-align: right;\">\n",
       "      <th></th>\n",
       "      <th>Unnamed: 0</th>\n",
       "      <th>gen_loss</th>\n",
       "      <th>gen_relative_loss</th>\n",
       "      <th>signal_loss</th>\n",
       "      <th>signal_relative_loss</th>\n",
       "      <th>noise_loss</th>\n",
       "      <th>noise_relative_loss</th>\n",
       "    </tr>\n",
       "  </thead>\n",
       "  <tbody>\n",
       "    <tr>\n",
       "      <th>1</th>\n",
       "      <td>0</td>\n",
       "      <td>0.022708</td>\n",
       "      <td>0.031364</td>\n",
       "      <td>0.195760</td>\n",
       "      <td>0.293058</td>\n",
       "      <td>0.057666</td>\n",
       "      <td>1.000007</td>\n",
       "    </tr>\n",
       "    <tr>\n",
       "      <th>2</th>\n",
       "      <td>0</td>\n",
       "      <td>0.018980</td>\n",
       "      <td>0.025653</td>\n",
       "      <td>0.167070</td>\n",
       "      <td>0.238884</td>\n",
       "      <td>0.058449</td>\n",
       "      <td>1.000018</td>\n",
       "    </tr>\n",
       "    <tr>\n",
       "      <th>3</th>\n",
       "      <td>0</td>\n",
       "      <td>0.017215</td>\n",
       "      <td>0.022491</td>\n",
       "      <td>0.157542</td>\n",
       "      <td>0.222678</td>\n",
       "      <td>0.058029</td>\n",
       "      <td>1.000143</td>\n",
       "    </tr>\n",
       "    <tr>\n",
       "      <th>4</th>\n",
       "      <td>0</td>\n",
       "      <td>0.018515</td>\n",
       "      <td>0.023984</td>\n",
       "      <td>0.160652</td>\n",
       "      <td>0.232405</td>\n",
       "      <td>0.058335</td>\n",
       "      <td>1.000029</td>\n",
       "    </tr>\n",
       "    <tr>\n",
       "      <th>5</th>\n",
       "      <td>0</td>\n",
       "      <td>0.018785</td>\n",
       "      <td>0.024563</td>\n",
       "      <td>0.162364</td>\n",
       "      <td>0.228907</td>\n",
       "      <td>0.058148</td>\n",
       "      <td>0.999804</td>\n",
       "    </tr>\n",
       "    <tr>\n",
       "      <th>6</th>\n",
       "      <td>0</td>\n",
       "      <td>0.018696</td>\n",
       "      <td>0.024492</td>\n",
       "      <td>0.156505</td>\n",
       "      <td>0.219711</td>\n",
       "      <td>0.057735</td>\n",
       "      <td>0.999948</td>\n",
       "    </tr>\n",
       "    <tr>\n",
       "      <th>7</th>\n",
       "      <td>0</td>\n",
       "      <td>0.017047</td>\n",
       "      <td>0.022028</td>\n",
       "      <td>0.161195</td>\n",
       "      <td>0.232641</td>\n",
       "      <td>0.058924</td>\n",
       "      <td>1.000041</td>\n",
       "    </tr>\n",
       "    <tr>\n",
       "      <th>8</th>\n",
       "      <td>0</td>\n",
       "      <td>0.019092</td>\n",
       "      <td>0.024038</td>\n",
       "      <td>0.164395</td>\n",
       "      <td>0.238300</td>\n",
       "      <td>0.058480</td>\n",
       "      <td>0.999984</td>\n",
       "    </tr>\n",
       "    <tr>\n",
       "      <th>9</th>\n",
       "      <td>0</td>\n",
       "      <td>0.018597</td>\n",
       "      <td>0.023747</td>\n",
       "      <td>0.161358</td>\n",
       "      <td>0.234943</td>\n",
       "      <td>0.058829</td>\n",
       "      <td>0.999992</td>\n",
       "    </tr>\n",
       "    <tr>\n",
       "      <th>10</th>\n",
       "      <td>0</td>\n",
       "      <td>0.019293</td>\n",
       "      <td>0.024663</td>\n",
       "      <td>0.161087</td>\n",
       "      <td>0.234348</td>\n",
       "      <td>0.057928</td>\n",
       "      <td>1.000207</td>\n",
       "    </tr>\n",
       "  </tbody>\n",
       "</table>\n",
       "</div>"
      ],
      "text/plain": [
       "    Unnamed: 0  gen_loss  gen_relative_loss  signal_loss  \\\n",
       "1            0  0.022708           0.031364     0.195760   \n",
       "2            0  0.018980           0.025653     0.167070   \n",
       "3            0  0.017215           0.022491     0.157542   \n",
       "4            0  0.018515           0.023984     0.160652   \n",
       "5            0  0.018785           0.024563     0.162364   \n",
       "6            0  0.018696           0.024492     0.156505   \n",
       "7            0  0.017047           0.022028     0.161195   \n",
       "8            0  0.019092           0.024038     0.164395   \n",
       "9            0  0.018597           0.023747     0.161358   \n",
       "10           0  0.019293           0.024663     0.161087   \n",
       "\n",
       "    signal_relative_loss  noise_loss  noise_relative_loss  \n",
       "1               0.293058    0.057666             1.000007  \n",
       "2               0.238884    0.058449             1.000018  \n",
       "3               0.222678    0.058029             1.000143  \n",
       "4               0.232405    0.058335             1.000029  \n",
       "5               0.228907    0.058148             0.999804  \n",
       "6               0.219711    0.057735             0.999948  \n",
       "7               0.232641    0.058924             1.000041  \n",
       "8               0.238300    0.058480             0.999984  \n",
       "9               0.234943    0.058829             0.999992  \n",
       "10              0.234348    0.057928             1.000207  "
      ]
     },
     "execution_count": 84,
     "metadata": {},
     "output_type": "execute_result"
    }
   ],
   "source": [
    "test"
   ]
  },
  {
   "cell_type": "code",
   "execution_count": 192,
   "metadata": {},
   "outputs": [],
   "source": [
    "visual = [test.gen_relative_loss, test.signal_relative_loss, test.noise_relative_loss]\n",
    "file = [\"gen_relative_loss\", \"signal_relative_loss\"]"
   ]
  },
  {
   "cell_type": "code",
   "execution_count": 193,
   "metadata": {
    "scrolled": true
   },
   "outputs": [
    {
     "data": {
      "image/png": "[encoded data removed]",
      "text/plain": [
       "<Figure size 432x288 with 3 Axes>"
      ]
     },
     "metadata": {
      "needs_background": "light"
     },
     "output_type": "display_data"
    }
   ],
   "source": [
    "def make_patch_spines_invisible(ax):\n",
    "    ax.set_frame_on(True)\n",
    "    ax.patch.set_visible(False)\n",
    "    for sp in ax.spines.values():\n",
    "        sp.set_visible(False)\n",
    "\n",
    "\n",
    "\n",
    "fig, host = plt.subplots()\n",
    "fig.subplots_adjust(right=0.75)\n",
    "\n",
    "\n",
    "par1 = host.twinx()\n",
    "par2 = host.twinx()\n",
    "par2.spines[\"right\"].set_position((\"axes\", 1.15))\n",
    "make_patch_spines_invisible(par2)\n",
    "par2.spines[\"right\"].set_visible(True)\n",
    "\n",
    "p1, = host.plot(np.arange(1,11,step=1), visual[0], \"b-\", label=\"Total\", marker='o')\n",
    "p2, = par1.plot(np.arange(1,11,step=1), visual[1], \"r-\", label=\"Signal\", marker='o')\n",
    "p3, = par2.plot(np.arange(1,11,step=1), visual[2], \"g-\", label=\"Noise\", marker='o')\n",
    "\n",
    "plt.xticks(np.arange(0, 11, step=1), np.arange(0,110, step=10))\n",
    "\n",
    "\n",
    "host.set_xlabel(\"Samples (per blocks)\")\n",
    "host.set_ylabel(\"Relative Loss\")\n",
    "\n",
    "\n",
    "host.yaxis.label.set_color(p1.get_color())\n",
    "par1.yaxis.label.set_color(p2.get_color())\n",
    "par2.yaxis.label.set_color(p3.get_color())\n",
    "\n",
    "tkw = dict(size=4, width=1.5)\n",
    "host.tick_params(axis='y', colors=p1.get_color(), **tkw)\n",
    "par1.tick_params(axis='y', colors=p2.get_color(), **tkw)\n",
    "par2.tick_params(axis='y', colors=p3.get_color(), **tkw)\n",
    "host.tick_params(axis='x', **tkw)\n",
    "\n",
    "lines = [p1, p2, p3]\n",
    "\n",
    "host.legend(lines, [l.get_label() for l in lines])\n",
    "plt.show()\n",
    "fig.savefig(\"./result/relative_loss.png\", dpi=300)"
   ]
  },
  {
   "cell_type": "code",
   "execution_count": 195,
   "metadata": {},
   "outputs": [
    {
     "data": {
      "image/png": "[encoded data removed]",
      "text/plain": [
       "<Figure size 432x288 with 3 Axes>"
      ]
     },
     "metadata": {
      "needs_background": "light"
     },
     "output_type": "display_data"
    },
    {
     "data": {
      "text/plain": [
       "<Figure size 2160x144 with 0 Axes>"
      ]
     },
     "metadata": {},
     "output_type": "display_data"
    }
   ],
   "source": [
    "def make_patch_spines_invisible(ax):\n",
    "    ax.set_frame_on(True)\n",
    "    ax.patch.set_visible(False)\n",
    "    for sp in ax.spines.values():\n",
    "        sp.set_visible(False)\n",
    "\n",
    "\n",
    "\n",
    "fig, host = plt.subplots()\n",
    "fig.subplots_adjust(right=0.75)\n",
    "\n",
    "\n",
    "par1 = host.twinx()\n",
    "par2 = host.twinx()\n",
    "par2.spines[\"right\"].set_position((\"axes\", 1.15))\n",
    "make_patch_spines_invisible(par2)\n",
    "par2.spines[\"right\"].set_visible(True)\n",
    "\n",
    "p1, = host.plot(np.arange(1,11,step=1), visual[0], \"b-\", label=\"Total\", marker='o')\n",
    "p2, = par1.plot(np.arange(1,11,step=1), visual[1], \"r-\", label=\"Signal\", marker='o')\n",
    "p3, = par2.plot(np.arange(1,11,step=1), visual[2], \"g-\", label=\"Noise\", marker='o')\n",
    "\n",
    "plt.xticks(np.arange(0, 11, step=1), np.arange(0,110, step=10))\n",
    "\n",
    "\n",
    "host.set_xlabel(\"Samples (per blocks)\")\n",
    "host.set_ylabel(\"Loss\")\n",
    "\n",
    "\n",
    "host.yaxis.label.set_color(p1.get_color())\n",
    "par1.yaxis.label.set_color(p2.get_color())\n",
    "par2.yaxis.label.set_color(p3.get_color())\n",
    "\n",
    "tkw = dict(size=4, width=1.5)\n",
    "host.tick_params(axis='y', colors=p1.get_color(), **tkw)\n",
    "par1.tick_params(axis='y', colors=p2.get_color(), **tkw)\n",
    "par2.tick_params(axis='y', colors=p3.get_color(), **tkw)\n",
    "host.tick_params(axis='x', **tkw)\n",
    "\n",
    "lines = [p1, p2, p3]\n",
    "plt.figure(figsize=(30,2))\n",
    "host.legend(lines, [l.get_label() for l in lines])\n",
    "plt.show()\n",
    "fig.savefig(\"./result/loss.png\", dpi=300)"
   ]
  },
  {
   "cell_type": "code",
   "execution_count": 194,
   "metadata": {},
   "outputs": [],
   "source": [
    "visual = [test.gen_loss, test.signal_loss, test.noise_loss]"
   ]
  },
  {
   "cell_type": "markdown",
   "metadata": {},
   "source": [
    "## Compare"
   ]
  },
  {
   "cell_type": "code",
   "execution_count": 28,
   "metadata": {},
   "outputs": [
    {
     "data": {
      "text/html": [
       "<div>\n",
       "<style scoped>\n",
       "    .dataframe tbody tr th:only-of-type {\n",
       "        vertical-align: middle;\n",
       "    }\n",
       "\n",
       "    .dataframe tbody tr th {\n",
       "        vertical-align: top;\n",
       "    }\n",
       "\n",
       "    .dataframe thead th {\n",
       "        text-align: right;\n",
       "    }\n",
       "</style>\n",
       "<table border=\"1\" class=\"dataframe\">\n",
       "  <thead>\n",
       "    <tr style=\"text-align: right;\">\n",
       "      <th></th>\n",
       "      <th>Unnamed: 0</th>\n",
       "      <th>gen_loss</th>\n",
       "      <th>gen_relative_loss</th>\n",
       "      <th>signal_loss</th>\n",
       "      <th>signal_relative_loss</th>\n",
       "      <th>noise_loss</th>\n",
       "      <th>noise_relative_loss</th>\n",
       "    </tr>\n",
       "  </thead>\n",
       "  <tbody>\n",
       "    <tr>\n",
       "      <th>0</th>\n",
       "      <td>0</td>\n",
       "      <td>0.014139</td>\n",
       "      <td>0.021019</td>\n",
       "      <td>0.202191</td>\n",
       "      <td>0.307047</td>\n",
       "      <td>0.057706</td>\n",
       "      <td>1.000960</td>\n",
       "    </tr>\n",
       "    <tr>\n",
       "      <th>1</th>\n",
       "      <td>0</td>\n",
       "      <td>0.015333</td>\n",
       "      <td>0.020011</td>\n",
       "      <td>0.177968</td>\n",
       "      <td>0.263563</td>\n",
       "      <td>0.058531</td>\n",
       "      <td>1.001536</td>\n",
       "    </tr>\n",
       "    <tr>\n",
       "      <th>2</th>\n",
       "      <td>0</td>\n",
       "      <td>0.013225</td>\n",
       "      <td>0.015541</td>\n",
       "      <td>0.172446</td>\n",
       "      <td>0.249169</td>\n",
       "      <td>0.058151</td>\n",
       "      <td>1.002281</td>\n",
       "    </tr>\n",
       "    <tr>\n",
       "      <th>3</th>\n",
       "      <td>0</td>\n",
       "      <td>0.013402</td>\n",
       "      <td>0.015942</td>\n",
       "      <td>0.173650</td>\n",
       "      <td>0.252613</td>\n",
       "      <td>0.058413</td>\n",
       "      <td>1.001589</td>\n",
       "    </tr>\n",
       "    <tr>\n",
       "      <th>4</th>\n",
       "      <td>0</td>\n",
       "      <td>0.012912</td>\n",
       "      <td>0.015440</td>\n",
       "      <td>0.175903</td>\n",
       "      <td>0.258567</td>\n",
       "      <td>0.058214</td>\n",
       "      <td>1.001042</td>\n",
       "    </tr>\n",
       "    <tr>\n",
       "      <th>5</th>\n",
       "      <td>0</td>\n",
       "      <td>0.012568</td>\n",
       "      <td>0.016423</td>\n",
       "      <td>0.174848</td>\n",
       "      <td>0.255893</td>\n",
       "      <td>0.057752</td>\n",
       "      <td>1.000447</td>\n",
       "    </tr>\n",
       "    <tr>\n",
       "      <th>6</th>\n",
       "      <td>0</td>\n",
       "      <td>0.013206</td>\n",
       "      <td>0.015924</td>\n",
       "      <td>0.172881</td>\n",
       "      <td>0.253394</td>\n",
       "      <td>0.058946</td>\n",
       "      <td>1.000929</td>\n",
       "    </tr>\n",
       "    <tr>\n",
       "      <th>7</th>\n",
       "      <td>0</td>\n",
       "      <td>0.012816</td>\n",
       "      <td>0.017396</td>\n",
       "      <td>0.174643</td>\n",
       "      <td>0.257866</td>\n",
       "      <td>0.058572</td>\n",
       "      <td>1.001981</td>\n",
       "    </tr>\n",
       "    <tr>\n",
       "      <th>8</th>\n",
       "      <td>0</td>\n",
       "      <td>0.010010</td>\n",
       "      <td>0.011958</td>\n",
       "      <td>0.173849</td>\n",
       "      <td>0.256827</td>\n",
       "      <td>0.058977</td>\n",
       "      <td>1.002201</td>\n",
       "    </tr>\n",
       "    <tr>\n",
       "      <th>9</th>\n",
       "      <td>0</td>\n",
       "      <td>0.014616</td>\n",
       "      <td>0.018749</td>\n",
       "      <td>0.173682</td>\n",
       "      <td>0.255794</td>\n",
       "      <td>0.058041</td>\n",
       "      <td>1.002655</td>\n",
       "    </tr>\n",
       "  </tbody>\n",
       "</table>\n",
       "</div>"
      ],
      "text/plain": [
       "   Unnamed: 0  gen_loss  gen_relative_loss  signal_loss  signal_relative_loss  \\\n",
       "0           0  0.014139           0.021019     0.202191              0.307047   \n",
       "1           0  0.015333           0.020011     0.177968              0.263563   \n",
       "2           0  0.013225           0.015541     0.172446              0.249169   \n",
       "3           0  0.013402           0.015942     0.173650              0.252613   \n",
       "4           0  0.012912           0.015440     0.175903              0.258567   \n",
       "5           0  0.012568           0.016423     0.174848              0.255893   \n",
       "6           0  0.013206           0.015924     0.172881              0.253394   \n",
       "7           0  0.012816           0.017396     0.174643              0.257866   \n",
       "8           0  0.010010           0.011958     0.173849              0.256827   \n",
       "9           0  0.014616           0.018749     0.173682              0.255794   \n",
       "\n",
       "   noise_loss  noise_relative_loss  \n",
       "0    0.057706             1.000960  \n",
       "1    0.058531             1.001536  \n",
       "2    0.058151             1.002281  \n",
       "3    0.058413             1.001589  \n",
       "4    0.058214             1.001042  \n",
       "5    0.057752             1.000447  \n",
       "6    0.058946             1.000929  \n",
       "7    0.058572             1.001981  \n",
       "8    0.058977             1.002201  \n",
       "9    0.058041             1.002655  "
      ]
     },
     "execution_count": 28,
     "metadata": {},
     "output_type": "execute_result"
    }
   ],
   "source": [
    "result = \"./result/test_1_03/test_1_03method\"\n",
    "test_result = []\n",
    "for i in range(1,11):\n",
    "    i = str(i)\n",
    "    data = pd.read_csv(result+i)\n",
    "    test_result.append(data)\n",
    "test = pd.concat(test_result, ignore_index=True)\n",
    "test"
   ]
  },
  {
   "cell_type": "code",
   "execution_count": 29,
   "metadata": {},
   "outputs": [
    {
     "data": {
      "text/html": [
       "<div>\n",
       "<style scoped>\n",
       "    .dataframe tbody tr th:only-of-type {\n",
       "        vertical-align: middle;\n",
       "    }\n",
       "\n",
       "    .dataframe tbody tr th {\n",
       "        vertical-align: top;\n",
       "    }\n",
       "\n",
       "    .dataframe thead th {\n",
       "        text-align: right;\n",
       "    }\n",
       "</style>\n",
       "<table border=\"1\" class=\"dataframe\">\n",
       "  <thead>\n",
       "    <tr style=\"text-align: right;\">\n",
       "      <th></th>\n",
       "      <th>Unnamed: 0</th>\n",
       "      <th>gen_loss</th>\n",
       "      <th>gen_relative_loss</th>\n",
       "      <th>signal_loss</th>\n",
       "      <th>signal_relative_loss</th>\n",
       "      <th>noise_loss</th>\n",
       "      <th>noise_relative_loss</th>\n",
       "    </tr>\n",
       "  </thead>\n",
       "  <tbody>\n",
       "    <tr>\n",
       "      <th>0</th>\n",
       "      <td>0</td>\n",
       "      <td>0.001532</td>\n",
       "      <td>0.002291</td>\n",
       "      <td>0.188587</td>\n",
       "      <td>0.300120</td>\n",
       "      <td>0.057670</td>\n",
       "      <td>1.000086</td>\n",
       "    </tr>\n",
       "    <tr>\n",
       "      <th>1</th>\n",
       "      <td>0</td>\n",
       "      <td>0.000995</td>\n",
       "      <td>0.001464</td>\n",
       "      <td>0.173427</td>\n",
       "      <td>0.253187</td>\n",
       "      <td>0.058449</td>\n",
       "      <td>1.000023</td>\n",
       "    </tr>\n",
       "    <tr>\n",
       "      <th>2</th>\n",
       "      <td>0</td>\n",
       "      <td>0.000740</td>\n",
       "      <td>0.000925</td>\n",
       "      <td>0.169882</td>\n",
       "      <td>0.244531</td>\n",
       "      <td>0.058030</td>\n",
       "      <td>0.999997</td>\n",
       "    </tr>\n",
       "    <tr>\n",
       "      <th>3</th>\n",
       "      <td>0</td>\n",
       "      <td>0.000831</td>\n",
       "      <td>0.001237</td>\n",
       "      <td>0.175220</td>\n",
       "      <td>0.253175</td>\n",
       "      <td>0.058334</td>\n",
       "      <td>0.999966</td>\n",
       "    </tr>\n",
       "    <tr>\n",
       "      <th>4</th>\n",
       "      <td>0</td>\n",
       "      <td>0.001364</td>\n",
       "      <td>0.002073</td>\n",
       "      <td>0.175227</td>\n",
       "      <td>0.259654</td>\n",
       "      <td>0.058146</td>\n",
       "      <td>0.999949</td>\n",
       "    </tr>\n",
       "    <tr>\n",
       "      <th>5</th>\n",
       "      <td>0</td>\n",
       "      <td>0.001419</td>\n",
       "      <td>0.002161</td>\n",
       "      <td>0.173165</td>\n",
       "      <td>0.255846</td>\n",
       "      <td>0.057736</td>\n",
       "      <td>0.999974</td>\n",
       "    </tr>\n",
       "    <tr>\n",
       "      <th>6</th>\n",
       "      <td>0</td>\n",
       "      <td>0.001021</td>\n",
       "      <td>0.001448</td>\n",
       "      <td>0.172881</td>\n",
       "      <td>0.255397</td>\n",
       "      <td>0.058923</td>\n",
       "      <td>1.000020</td>\n",
       "    </tr>\n",
       "    <tr>\n",
       "      <th>7</th>\n",
       "      <td>0</td>\n",
       "      <td>0.000839</td>\n",
       "      <td>0.001159</td>\n",
       "      <td>0.177577</td>\n",
       "      <td>0.261464</td>\n",
       "      <td>0.058481</td>\n",
       "      <td>1.000038</td>\n",
       "    </tr>\n",
       "    <tr>\n",
       "      <th>8</th>\n",
       "      <td>0</td>\n",
       "      <td>0.002059</td>\n",
       "      <td>0.003231</td>\n",
       "      <td>0.174713</td>\n",
       "      <td>0.259907</td>\n",
       "      <td>0.058827</td>\n",
       "      <td>0.999957</td>\n",
       "    </tr>\n",
       "    <tr>\n",
       "      <th>9</th>\n",
       "      <td>0</td>\n",
       "      <td>0.000949</td>\n",
       "      <td>0.001513</td>\n",
       "      <td>0.196039</td>\n",
       "      <td>0.268724</td>\n",
       "      <td>0.057926</td>\n",
       "      <td>0.999955</td>\n",
       "    </tr>\n",
       "  </tbody>\n",
       "</table>\n",
       "</div>"
      ],
      "text/plain": [
       "   Unnamed: 0  gen_loss  gen_relative_loss  signal_loss  signal_relative_loss  \\\n",
       "0           0  0.001532           0.002291     0.188587              0.300120   \n",
       "1           0  0.000995           0.001464     0.173427              0.253187   \n",
       "2           0  0.000740           0.000925     0.169882              0.244531   \n",
       "3           0  0.000831           0.001237     0.175220              0.253175   \n",
       "4           0  0.001364           0.002073     0.175227              0.259654   \n",
       "5           0  0.001419           0.002161     0.173165              0.255846   \n",
       "6           0  0.001021           0.001448     0.172881              0.255397   \n",
       "7           0  0.000839           0.001159     0.177577              0.261464   \n",
       "8           0  0.002059           0.003231     0.174713              0.259907   \n",
       "9           0  0.000949           0.001513     0.196039              0.268724   \n",
       "\n",
       "   noise_loss  noise_relative_loss  \n",
       "0    0.057670             1.000086  \n",
       "1    0.058449             1.000023  \n",
       "2    0.058030             0.999997  \n",
       "3    0.058334             0.999966  \n",
       "4    0.058146             0.999949  \n",
       "5    0.057736             0.999974  \n",
       "6    0.058923             1.000020  \n",
       "7    0.058481             1.000038  \n",
       "8    0.058827             0.999957  \n",
       "9    0.057926             0.999955  "
      ]
     },
     "execution_count": 29,
     "metadata": {},
     "output_type": "execute_result"
    }
   ],
   "source": [
    "result = \"./result/test_1_04/test_1_04method\"\n",
    "test_result = []\n",
    "for i in range(1,11):\n",
    "    i = str(i)\n",
    "    data = pd.read_csv(result+i)\n",
    "    test_result.append(data)\n",
    "test_1_04 = pd.concat(test_result, ignore_index=True)\n",
    "test_1_04"
   ]
  },
  {
   "cell_type": "code",
   "execution_count": 30,
   "metadata": {},
   "outputs": [],
   "source": [
    "gen_relative_loss= [test.gen_relative_loss, test_1_04.gen_relative_loss]\n",
    "file = [\"gen_relative_loss\", \"signal_relative_loss\"]"
   ]
  },
  {
   "cell_type": "code",
   "execution_count": 31,
   "metadata": {},
   "outputs": [
    {
     "data": {
      "image/png": "[encoded data removed]",
      "text/plain": [
       "<Figure size 432x288 with 1 Axes>"
      ]
     },
     "metadata": {
      "needs_background": "light"
     },
     "output_type": "display_data"
    }
   ],
   "source": [
    "def make_patch_spines_invisible(ax):\n",
    "    ax.set_frame_on(True)\n",
    "    ax.patch.set_visible(False)\n",
    "    for sp in ax.spines.values():\n",
    "        sp.set_visible(False)\n",
    "\n",
    "\n",
    "\n",
    "fig, host = plt.subplots()\n",
    "\n",
    "host.set_xlabel(\"Samples (per blocks)\")\n",
    "host.set_ylabel(\"Loss\")\n",
    "\n",
    "p1, = host.plot(np.arange(1,11,step=1), gen_relative_loss[0], \"b-\", label=\"Preivous\", marker='o')\n",
    "p2, = host.plot(np.arange(1,11,step=1), gen_relative_loss[1], \"r-\", label=\"Current\", marker='o')\n",
    "\n",
    "plt.xticks(np.arange(0, 11, step=1), np.arange(0,110, step=10))\n",
    "\n",
    "lines = [p1, p2]\n",
    "\n",
    "host.legend(lines, [l.get_label() for l in lines])\n",
    "plt.show()\n",
    "fig.savefig(\"./result/test_1_04/relative_loss.png\", dpi=300)"
   ]
  },
  {
   "cell_type": "code",
   "execution_count": 32,
   "metadata": {},
   "outputs": [],
   "source": [
    "signal_relative_loss= [test.signal_relative_loss, test_1_04.signal_relative_loss]\n",
    "file = [\"gen_relative_loss\", \"signal_relative_loss\"]"
   ]
  },
  {
   "cell_type": "code",
   "execution_count": 33,
   "metadata": {},
   "outputs": [
    {
     "data": {
      "image/png": "[encoded data removed]",
      "text/plain": [
       "<Figure size 432x288 with 1 Axes>"
      ]
     },
     "metadata": {
      "needs_background": "light"
     },
     "output_type": "display_data"
    }
   ],
   "source": [
    "def make_patch_spines_invisible(ax):\n",
    "    ax.set_frame_on(True)\n",
    "    ax.patch.set_visible(False)\n",
    "    for sp in ax.spines.values():\n",
    "        sp.set_visible(False)\n",
    "\n",
    "\n",
    "\n",
    "fig, host = plt.subplots()\n",
    "\n",
    "host.set_xlabel(\"Samples (per blocks)\")\n",
    "host.set_ylabel(\"Loss\")\n",
    "\n",
    "p1, = host.plot(np.arange(1,11,step=1), signal_relative_loss[0], \"b-\", label=\"Preivous\", marker='o')\n",
    "p2, = host.plot(np.arange(1,11,step=1), signal_relative_loss[1], \"r-\", label=\"Current\", marker='o')\n",
    "\n",
    "plt.xticks(np.arange(0, 11, step=1), np.arange(0,110, step=10))\n",
    "\n",
    "lines = [p1, p2]\n",
    "\n",
    "host.legend(lines, [l.get_label() for l in lines])\n",
    "plt.show()\n",
    "fig.savefig(\"./result/test_1_04/signal_loss.png\", dpi=300)"
   ]
  },
  {
   "cell_type": "markdown",
   "metadata": {},
   "source": [
    "## 1/10/21"
   ]
  },
  {
   "cell_type": "code",
   "execution_count": 40,
   "metadata": {},
   "outputs": [],
   "source": [
    "result = \"./result/1_24/method\"\n",
    "test_result = []\n",
    "for i in range (1,6):\n",
    "    data = result + str(i)\n",
    "    test = pd.read_csv(data)\n",
    "    test_result.append(test)\n",
    "test = pd.concat(test_result, ignore_index=True)\n",
    "result = test.iloc[:, [1,2]]"
   ]
  },
  {
   "cell_type": "code",
   "execution_count": 41,
   "metadata": {},
   "outputs": [
    {
     "data": {
      "image/png": "[encoded data removed]",
      "text/plain": [
       "<Figure size 432x288 with 1 Axes>"
      ]
     },
     "metadata": {
      "needs_background": "light"
     },
     "output_type": "display_data"
    }
   ],
   "source": [
    "def make_patch_spines_invisible(ax):\n",
    "    ax.set_frame_on(True)\n",
    "    ax.patch.set_visible(False)\n",
    "    for sp in ax.spines.values():\n",
    "        sp.set_visible(False)\n",
    "\n",
    "\n",
    "\n",
    "fig, host = plt.subplots()\n",
    "\n",
    "host.set_xlabel(\"Ratio (Signal to Interference)\")\n",
    "host.set_ylabel(\"Loss\")\n",
    "\n",
    "p1, = host.plot(np.arange(1,6,step=1),result['disentangle loss'], \"b-\", label=\"Loss\", marker='o')\n",
    "p2, = host.plot(np.arange(1,6,step=1), result['relative loss'], \"r-\", label=\"Relative Loss \", marker='o')\n",
    "\n",
    "plt.xticks(np.arange(1, 6, step=1), np.arange(10, 60, step=10))\n",
    "\n",
    "lines = [p1, p2]\n",
    "\n",
    "host.legend(lines, [l.get_label() for l in lines])\n",
    "plt.show()\n",
    "fig.savefig(\"./result/1_24/signal_loss.png\", dpi=300)"
   ]
  },
  {
   "cell_type": "code",
   "execution_count": 31,
   "metadata": {},
   "outputs": [
    {
     "data": {
      "text/plain": [
       "0    0.197259\n",
       "1    0.169452\n",
       "2    0.116965\n",
       "3    0.150189\n",
       "4    0.143126\n",
       "Name: disentangle loss, dtype: float64"
      ]
     },
     "execution_count": 31,
     "metadata": {},
     "output_type": "execute_result"
    }
   ],
   "source": [
    "result['disentangle loss']"
   ]
  },
  {
   "cell_type": "code",
   "execution_count": 32,
   "metadata": {},
   "outputs": [
    {
     "data": {
      "text/plain": [
       "0    0.275935\n",
       "1    0.229146\n",
       "2    0.164603\n",
       "3    0.206900\n",
       "4    0.197718\n",
       "Name: relative loss, dtype: float64"
      ]
     },
     "execution_count": 32,
     "metadata": {},
     "output_type": "execute_result"
    }
   ],
   "source": [
    "result['relative loss']"
   ]
  },
  {
   "cell_type": "markdown",
   "metadata": {},
   "source": [
    "# 1_31"
   ]
  },
  {
   "cell_type": "code",
   "execution_count": 3,
   "metadata": {},
   "outputs": [],
   "source": [
    "result = \"./result/1_31/method\"\n",
    "test_result = []\n",
    "for i in range (1,3):\n",
    "    data = result + str(i)\n",
    "    test = pd.read_csv(data)\n",
    "    test_result.append(test)\n",
    "test = pd.concat(test_result, ignore_index=True)"
   ]
  },
  {
   "cell_type": "code",
   "execution_count": 8,
   "metadata": {},
   "outputs": [],
   "source": [
    "method1 = test.iloc[:100, :]\n",
    "method2 = test.iloc[100:, :]"
   ]
  },
  {
   "cell_type": "code",
   "execution_count": 75,
   "metadata": {},
   "outputs": [
    {
     "data": {
      "text/plain": [
       "0.26052305"
      ]
     },
     "execution_count": 75,
     "metadata": {},
     "output_type": "execute_result"
    }
   ],
   "source": [
    "method1.loc[:, 'relative loss'].min()"
   ]
  },
  {
   "cell_type": "code",
   "execution_count": 49,
   "metadata": {},
   "outputs": [
    {
     "data": {
      "image/png": "[encoded data removed]",
      "text/plain": [
       "<Figure size 432x288 with 1 Axes>"
      ]
     },
     "metadata": {
      "needs_background": "light"
     },
     "output_type": "display_data"
    }
   ],
   "source": [
    "def make_patch_spines_invisible(ax):\n",
    "    ax.set_frame_on(True)\n",
    "    ax.patch.set_visible(False)\n",
    "    for sp in ax.spines.values():\n",
    "        sp.set_visible(False)\n",
    "\n",
    "\n",
    "\n",
    "fig, host = plt.subplots()\n",
    "\n",
    "host.set_xlabel(\"Epochs\")\n",
    "host.set_ylabel(\"Relative Loss\")\n",
    "\n",
    "p1, = host.plot(np.arange(0,100,step=1), method1.iloc[::-1,1], \"b-\", label=\"lambda=1/2\")\n",
    "p2, = host.plot(np.arange(0,100,step=1), method2.iloc[::-1,1], \"r-\", label=\"lambda=1\")\n",
    "\n",
    "\n",
    "lines = [p1, p2]\n",
    "\n",
    "host.legend(lines, [l.get_label() for l in lines])\n",
    "plt.show()\n",
    "fig.savefig(\"./result/1_31/training_prcess.png\", dpi=300)"
   ]
  },
  {
   "cell_type": "code",
   "execution_count": 83,
   "metadata": {},
   "outputs": [],
   "source": [
    "result = \"./result/1_31/\"\n",
    "test_result = pd.read_csv(result+'baseline_qam')\n",
    "for i in range (1,3):\n",
    "    data = result + \"test\" + str(i) + \"_qam\"\n",
    "    test = pd.read_csv(data)\n",
    "    test_result = pd.concat([test_result, test], axis=1)"
   ]
  },
  {
   "cell_type": "code",
   "execution_count": 84,
   "metadata": {},
   "outputs": [
    {
     "data": {
      "text/plain": [
       "0.8500000238418579"
      ]
     },
     "execution_count": 84,
     "metadata": {},
     "output_type": "execute_result"
    }
   ],
   "source": [
    "test_result.iloc[:, 9].max()"
   ]
  },
  {
   "cell_type": "code",
   "execution_count": 85,
   "metadata": {},
   "outputs": [
    {
     "data": {
      "image/png": "[encoded data removed]",
      "text/plain": [
       "<Figure size 432x288 with 1 Axes>"
      ]
     },
     "metadata": {
      "needs_background": "light"
     },
     "output_type": "display_data"
    }
   ],
   "source": [
    "def make_patch_spines_invisible(ax):\n",
    "    ax.set_frame_on(True)\n",
    "    ax.patch.set_visible(False)\n",
    "    for sp in ax.spines.values():\n",
    "        sp.set_visible(False)\n",
    "\n",
    "\n",
    "\n",
    "fig, host = plt.subplots()\n",
    "\n",
    "host.set_xlabel(\"Epochs\")\n",
    "host.set_ylabel(\"Validate Accuracy\")\n",
    "\n",
    "p1, = host.plot(np.arange(0,100,step=1), test_result.iloc[:,4], \"b-\", label=\"BaseLine\")\n",
    "p2, = host.plot(np.arange(0,100,step=1), test_result.iloc[:,9], \"r-\", label=\"lambda=1/2\")\n",
    "p3, = host.plot(np.arange(0,100,step=1), test_result.iloc[:,14], \"c-\", label=\"lambda=1\")\n",
    "\n",
    "\n",
    "lines = [p1, p2, p3]\n",
    "\n",
    "host.legend(lines, [l.get_label() for l in lines])\n",
    "plt.show()\n",
    "fig.savefig(\"./result/1_31/qam_accuracy.png\", dpi=300)"
   ]
  },
  {
   "cell_type": "code",
   "execution_count": 86,
   "metadata": {},
   "outputs": [],
   "source": [
    "result = \"./result/1_31/\"\n",
    "test_result = pd.read_csv(result+'baseline_symbol')\n",
    "for i in range (1,3):\n",
    "    data = result + \"test\" + str(i) + \"_symbol\"\n",
    "    test = pd.read_csv(data)\n",
    "    test_result = pd.concat([test_result, test], axis=1)"
   ]
  },
  {
   "cell_type": "code",
   "execution_count": 89,
   "metadata": {},
   "outputs": [
    {
     "data": {
      "text/plain": [
       "0.9104999899864196"
      ]
     },
     "execution_count": 89,
     "metadata": {},
     "output_type": "execute_result"
    }
   ],
   "source": [
    "test_result.iloc[:,14].max()"
   ]
  },
  {
   "cell_type": "code",
   "execution_count": 82,
   "metadata": {},
   "outputs": [
    {
     "data": {
      "image/png": "[encoded data removed]",
      "text/plain": [
       "<Figure size 432x288 with 1 Axes>"
      ]
     },
     "metadata": {
      "needs_background": "light"
     },
     "output_type": "display_data"
    }
   ],
   "source": [
    "def make_patch_spines_invisible(ax):\n",
    "    ax.set_frame_on(True)\n",
    "    ax.patch.set_visible(False)\n",
    "    for sp in ax.spines.values():\n",
    "        sp.set_visible(False)\n",
    "\n",
    "\n",
    "\n",
    "fig, host = plt.subplots()\n",
    "\n",
    "host.set_xlabel(\"Epochs\")\n",
    "host.set_ylabel(\"Validate Accuracy\")\n",
    "\n",
    "p1, = host.plot(np.arange(0,300,step=1), test_result.iloc[:,4], \"b-\", label=\"BaseLine\")\n",
    "p2, = host.plot(np.arange(0,300,step=1), test_result.iloc[:,9], \"r-\", label=\"lambda=1/2\")\n",
    "p3, = host.plot(np.arange(0,300,step=1), test_result.iloc[:,14], \"c-\", label=\"lambda=1\")\n",
    "\n",
    "\n",
    "lines = [p1, p2, p3]\n",
    "\n",
    "host.legend(lines, [l.get_label() for l in lines])\n",
    "plt.show()\n",
    "fig.savefig(\"./result/1_31/symbol_accuracy.png\", dpi=300)"
   ]
  },
  {
   "cell_type": "code",
   "execution_count": null,
   "metadata": {},
   "outputs": [],
   "source": []
  }
 ],
 "metadata": {
  "kernelspec": {
   "display_name": "Python 3",
   "language": "python",
   "name": "python3"
  },
  "language_info": {
   "codemirror_mode": {
    "name": "ipython",
    "version": 3
   },
   "file_extension": ".py",
   "mimetype": "text/x-python",
   "name": "python",
   "nbconvert_exporter": "python",
   "pygments_lexer": "ipython3",
   "version": "3.7.1"
  }
 },
 "nbformat": 4,
 "nbformat_minor": 4
}
