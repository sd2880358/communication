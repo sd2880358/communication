{
 "cells": [
  {
   "cell_type": "code",
   "execution_count": 2,
   "metadata": {},
   "outputs": [
    {
     "name": "stdout",
     "output_type": "stream",
     "text": [
      "{'signal': [0.18531812727451324, 0.9329000115394592]}\n"
     ]
    }
   ],
   "source": [
    "import mlcTest as mt\n",
    "import pandas as pd\n",
    "import tensorflow as tf"
   ]
  },
  {
   "cell_type": "code",
   "execution_count": 156,
   "metadata": {},
   "outputs": [],
   "source": [
    "data = pd.read_csv('test_result.csv')\n",
    "predicted_cons = []\n",
    "for i in range(len(data)):\n",
    "    if data.prediction[i] in [j for j in range(0,4)]:\n",
    "        predicted_cons.append(1)\n",
    "    else:\n",
    "        predicted_cons.append(2)\n",
    "test = data.assign(predicted_cons=predicted_cons)"
   ]
  },
  {
   "cell_type": "code",
   "execution_count": 48,
   "metadata": {},
   "outputs": [
    {
     "data": {
      "text/html": [
       "<div>\n",
       "<style scoped>\n",
       "    .dataframe tbody tr th:only-of-type {\n",
       "        vertical-align: middle;\n",
       "    }\n",
       "\n",
       "    .dataframe tbody tr th {\n",
       "        vertical-align: top;\n",
       "    }\n",
       "\n",
       "    .dataframe thead th {\n",
       "        text-align: right;\n",
       "    }\n",
       "</style>\n",
       "<table border=\"1\" class=\"dataframe\">\n",
       "  <thead>\n",
       "    <tr style=\"text-align: right;\">\n",
       "      <th></th>\n",
       "      <th>real</th>\n",
       "      <th>imag</th>\n",
       "      <th>cons</th>\n",
       "      <th>block</th>\n",
       "      <th>label</th>\n",
       "      <th>interference</th>\n",
       "      <th>buffer</th>\n",
       "      <th>label_real</th>\n",
       "      <th>label_imag</th>\n",
       "      <th>prediction</th>\n",
       "    </tr>\n",
       "  </thead>\n",
       "  <tbody>\n",
       "    <tr>\n",
       "      <th>0</th>\n",
       "      <td>0.120629</td>\n",
       "      <td>0.117264</td>\n",
       "      <td>2</td>\n",
       "      <td>1</td>\n",
       "      <td>10</td>\n",
       "      <td>1</td>\n",
       "      <td>(0.31622776601683794+0.31622776601683794j)</td>\n",
       "      <td>0.316228</td>\n",
       "      <td>0.316228</td>\n",
       "      <td>10</td>\n",
       "    </tr>\n",
       "    <tr>\n",
       "      <th>1</th>\n",
       "      <td>-0.038891</td>\n",
       "      <td>0.152451</td>\n",
       "      <td>2</td>\n",
       "      <td>1</td>\n",
       "      <td>9</td>\n",
       "      <td>1</td>\n",
       "      <td>(-0.31622776601683794+0.31622776601683794j)</td>\n",
       "      <td>-0.316228</td>\n",
       "      <td>0.316228</td>\n",
       "      <td>9</td>\n",
       "    </tr>\n",
       "    <tr>\n",
       "      <th>2</th>\n",
       "      <td>0.481826</td>\n",
       "      <td>-0.876530</td>\n",
       "      <td>2</td>\n",
       "      <td>1</td>\n",
       "      <td>19</td>\n",
       "      <td>1</td>\n",
       "      <td>(0.9486832980505138-0.9486832980505138j)</td>\n",
       "      <td>0.948683</td>\n",
       "      <td>-0.948683</td>\n",
       "      <td>19</td>\n",
       "    </tr>\n",
       "    <tr>\n",
       "      <th>3</th>\n",
       "      <td>0.533483</td>\n",
       "      <td>-0.142285</td>\n",
       "      <td>2</td>\n",
       "      <td>1</td>\n",
       "      <td>15</td>\n",
       "      <td>1</td>\n",
       "      <td>(0.9486832980505138-0.31622776601683794j)</td>\n",
       "      <td>0.948683</td>\n",
       "      <td>-0.316228</td>\n",
       "      <td>15</td>\n",
       "    </tr>\n",
       "    <tr>\n",
       "      <th>4</th>\n",
       "      <td>0.421070</td>\n",
       "      <td>0.472924</td>\n",
       "      <td>2</td>\n",
       "      <td>1</td>\n",
       "      <td>10</td>\n",
       "      <td>1</td>\n",
       "      <td>(0.31622776601683794+0.31622776601683794j)</td>\n",
       "      <td>0.316228</td>\n",
       "      <td>0.316228</td>\n",
       "      <td>6</td>\n",
       "    </tr>\n",
       "    <tr>\n",
       "      <th>...</th>\n",
       "      <td>...</td>\n",
       "      <td>...</td>\n",
       "      <td>...</td>\n",
       "      <td>...</td>\n",
       "      <td>...</td>\n",
       "      <td>...</td>\n",
       "      <td>...</td>\n",
       "      <td>...</td>\n",
       "      <td>...</td>\n",
       "      <td>...</td>\n",
       "    </tr>\n",
       "    <tr>\n",
       "      <th>9595</th>\n",
       "      <td>-0.167899</td>\n",
       "      <td>-0.299525</td>\n",
       "      <td>2</td>\n",
       "      <td>993</td>\n",
       "      <td>13</td>\n",
       "      <td>0</td>\n",
       "      <td>(-0.31622776601683794-0.31622776601683794j)</td>\n",
       "      <td>-0.316228</td>\n",
       "      <td>-0.316228</td>\n",
       "      <td>13</td>\n",
       "    </tr>\n",
       "    <tr>\n",
       "      <th>9596</th>\n",
       "      <td>-0.568121</td>\n",
       "      <td>0.242732</td>\n",
       "      <td>2</td>\n",
       "      <td>993</td>\n",
       "      <td>8</td>\n",
       "      <td>0</td>\n",
       "      <td>(-0.9486832980505138+0.31622776601683794j)</td>\n",
       "      <td>-0.948683</td>\n",
       "      <td>0.316228</td>\n",
       "      <td>8</td>\n",
       "    </tr>\n",
       "    <tr>\n",
       "      <th>9597</th>\n",
       "      <td>-0.157070</td>\n",
       "      <td>-0.660922</td>\n",
       "      <td>2</td>\n",
       "      <td>993</td>\n",
       "      <td>17</td>\n",
       "      <td>0</td>\n",
       "      <td>(-0.31622776601683794-0.9486832980505138j)</td>\n",
       "      <td>-0.316228</td>\n",
       "      <td>-0.948683</td>\n",
       "      <td>17</td>\n",
       "    </tr>\n",
       "    <tr>\n",
       "      <th>9598</th>\n",
       "      <td>-0.210914</td>\n",
       "      <td>-0.207288</td>\n",
       "      <td>2</td>\n",
       "      <td>993</td>\n",
       "      <td>13</td>\n",
       "      <td>0</td>\n",
       "      <td>(-0.31622776601683794-0.31622776601683794j)</td>\n",
       "      <td>-0.316228</td>\n",
       "      <td>-0.316228</td>\n",
       "      <td>13</td>\n",
       "    </tr>\n",
       "    <tr>\n",
       "      <th>9599</th>\n",
       "      <td>-0.612362</td>\n",
       "      <td>0.321020</td>\n",
       "      <td>2</td>\n",
       "      <td>993</td>\n",
       "      <td>8</td>\n",
       "      <td>0</td>\n",
       "      <td>(-0.9486832980505138+0.31622776601683794j)</td>\n",
       "      <td>-0.948683</td>\n",
       "      <td>0.316228</td>\n",
       "      <td>8</td>\n",
       "    </tr>\n",
       "  </tbody>\n",
       "</table>\n",
       "<p>9600 rows × 10 columns</p>\n",
       "</div>"
      ],
      "text/plain": [
       "          real      imag  cons  block  label  interference  \\\n",
       "0     0.120629  0.117264     2      1     10             1   \n",
       "1    -0.038891  0.152451     2      1      9             1   \n",
       "2     0.481826 -0.876530     2      1     19             1   \n",
       "3     0.533483 -0.142285     2      1     15             1   \n",
       "4     0.421070  0.472924     2      1     10             1   \n",
       "...        ...       ...   ...    ...    ...           ...   \n",
       "9595 -0.167899 -0.299525     2    993     13             0   \n",
       "9596 -0.568121  0.242732     2    993      8             0   \n",
       "9597 -0.157070 -0.660922     2    993     17             0   \n",
       "9598 -0.210914 -0.207288     2    993     13             0   \n",
       "9599 -0.612362  0.321020     2    993      8             0   \n",
       "\n",
       "                                           buffer  label_real  label_imag  \\\n",
       "0      (0.31622776601683794+0.31622776601683794j)    0.316228    0.316228   \n",
       "1     (-0.31622776601683794+0.31622776601683794j)   -0.316228    0.316228   \n",
       "2        (0.9486832980505138-0.9486832980505138j)    0.948683   -0.948683   \n",
       "3       (0.9486832980505138-0.31622776601683794j)    0.948683   -0.316228   \n",
       "4      (0.31622776601683794+0.31622776601683794j)    0.316228    0.316228   \n",
       "...                                           ...         ...         ...   \n",
       "9595  (-0.31622776601683794-0.31622776601683794j)   -0.316228   -0.316228   \n",
       "9596   (-0.9486832980505138+0.31622776601683794j)   -0.948683    0.316228   \n",
       "9597   (-0.31622776601683794-0.9486832980505138j)   -0.316228   -0.948683   \n",
       "9598  (-0.31622776601683794-0.31622776601683794j)   -0.316228   -0.316228   \n",
       "9599   (-0.9486832980505138+0.31622776601683794j)   -0.948683    0.316228   \n",
       "\n",
       "      prediction  \n",
       "0             10  \n",
       "1              9  \n",
       "2             19  \n",
       "3             15  \n",
       "4              6  \n",
       "...          ...  \n",
       "9595          13  \n",
       "9596           8  \n",
       "9597          17  \n",
       "9598          13  \n",
       "9599           8  \n",
       "\n",
       "[9600 rows x 10 columns]"
      ]
     },
     "execution_count": 48,
     "metadata": {},
     "output_type": "execute_result"
    }
   ],
   "source": [
    "data"
   ]
  },
  {
   "cell_type": "markdown",
   "metadata": {},
   "source": [
    "# 1 \n",
    "- P(Constellation Error | Constellation = 4QAM)\n",
    "- P(Constellation Error | Constellation = 16QAM)"
   ]
  },
  {
   "cell_type": "code",
   "execution_count": 43,
   "metadata": {},
   "outputs": [],
   "source": [
    "real_label = data.label\n",
    "pred_label = data.prediction"
   ]
  },
  {
   "cell_type": "code",
   "execution_count": 44,
   "metadata": {},
   "outputs": [],
   "source": [
    "cf = tf.math.confusion_matrix(real_label, pred_label).numpy()\n",
    "cf = pd.DataFrame(cf)"
   ]
  },
  {
   "cell_type": "code",
   "execution_count": 247,
   "metadata": {},
   "outputs": [],
   "source": [
    "cons_4 = test[test.cons==1]\n",
    "cons_16 = test[test.cons==2]\n",
    "total_cons_error = cons_4_error + cons_16_error\n",
    "cons_4_error_rate = cons_4_error / total_cons_error\n",
    "cons_16_error_rate = cons_16_error / total_cons_error"
   ]
  },
  {
   "cell_type": "code",
   "execution_count": 249,
   "metadata": {},
   "outputs": [
    {
     "name": "stdout",
     "output_type": "stream",
     "text": [
      "CONS_ERROR|4QAM  IS:  0.6870540265035678\n",
      "CONS_ERROR|TOTAL IS:  0.3129459734964322\n"
     ]
    }
   ],
   "source": [
    "print(\"CONS_ERROR|4QAM  IS: \", cons_4_error_rate)\n",
    "print(\"CONS_ERROR|16QAM IS: \", cons_16_error_rate)"
   ]
  },
  {
   "cell_type": "markdown",
   "metadata": {},
   "source": [
    "# 2\n",
    "- P(Constellation Error | Interference)\n",
    "- P(Constellation Error | No Interference)"
   ]
  },
  {
   "cell_type": "code",
   "execution_count": 181,
   "metadata": {},
   "outputs": [],
   "source": [
    "data_with_ins = data[data.interference==1]\n",
    "ins_label = data_with_ins.label\n",
    "ins_prediction = data_with_ins.prediction\n",
    "cons_error = sum(test.cons!=test.predicted_cons)"
   ]
  },
  {
   "cell_type": "code",
   "execution_count": 50,
   "metadata": {},
   "outputs": [],
   "source": [
    "cf_ins = tf.math.confusion_matrix(cons_label, cons_prediction).numpy()\n",
    "cf_ins = pd.DataFrame(cf_cons)"
   ]
  },
  {
   "cell_type": "code",
   "execution_count": 182,
   "metadata": {},
   "outputs": [],
   "source": [
    "interference_data = test[data.interference==1]\n",
    "interference_cons_error = sum(interference_data.cons!=interference_data.predicted_cons)\n",
    "n_interference_data = test[data.interference==0]\n",
    "n_interference_cons_error = sum(n_interference_data.cons!=n_interference_data.predicted_cons)\n",
    "interference_cons_error_rate = interference_cons_error / cons_error\n",
    "n_interference_cons_error_rate = n_interference_cons_error / cons_error"
   ]
  },
  {
   "cell_type": "code",
   "execution_count": 183,
   "metadata": {},
   "outputs": [
    {
     "name": "stdout",
     "output_type": "stream",
     "text": [
      "CONS_ERROR|Interference is:  0.8868501529051988\n",
      "CONS_ERROR|No Interference is:  0.11314984709480122\n"
     ]
    }
   ],
   "source": [
    "print(\"CONS_ERROR|Interference is: \", interference_cons_error_rate)\n",
    "print(\"CONS_ERROR|No Interference is: \", n_interference_cons_error_rate)"
   ]
  },
  {
   "cell_type": "markdown",
   "metadata": {},
   "source": [
    "# 3\n",
    "- P(Symbol Error | Constellation = 4QAM AND correct constellation decision)\n",
    "- P(Symbol Error | Constellation = 16QAM AND correct constellation decision)"
   ]
  },
  {
   "cell_type": "code",
   "execution_count": 184,
   "metadata": {},
   "outputs": [],
   "source": [
    "cons_4_data = test[test.cons==1]\n",
    "cons_16_data = test[test.cons==2]"
   ]
  },
  {
   "cell_type": "code",
   "execution_count": 185,
   "metadata": {},
   "outputs": [],
   "source": [
    "cons_4_symbol_error = sum(cons_4_data.label!=cons_4_data.prediction)\n",
    "cons_16_symbol_error = sum(cons_16_data.label!=cons_16_data.prediction)"
   ]
  },
  {
   "cell_type": "code",
   "execution_count": 197,
   "metadata": {},
   "outputs": [],
   "source": [
    "cons_4_symbol_error_cons_correct = cons_4_data[cons_4_data.label!=cons_4_data.prediction]\n",
    "cons_4_symbol_error_cons_correct = cons_4_symbol_error_cons_correct[cons_4_symbol_error_cons_correct.cons ==\n",
    "                                                                   cons_4_symbol_error_cons_correct.predicted_cons]\n",
    "cons_16_symbol_error_cons_correct = cons_16_data[cons_16_data.label!=cons_16_data.prediction]\n",
    "cons_16_symbol_error_cons_correct = cons_16_symbol_error_cons_correct[cons_16_symbol_error_cons_correct.cons ==\n",
    "                                                                   cons_16_symbol_error_cons_correct.predicted_cons]"
   ]
  },
  {
   "cell_type": "code",
   "execution_count": 198,
   "metadata": {},
   "outputs": [],
   "source": [
    "p_cons_4_symbolError_consCorrect_rate = len(cons_4_symbol_error_cons_correct) / total_error\n",
    "p_cons_16_symbolError_consCorrect_rate = len(cons_16_symbol_error_cons_correct) / total_error"
   ]
  },
  {
   "cell_type": "code",
   "execution_count": 199,
   "metadata": {},
   "outputs": [
    {
     "name": "stdout",
     "output_type": "stream",
     "text": [
      "P(Symbol Error | Constellation = 4QAM AND correct constellation decision) =  0.0\n",
      "P(Symbol Error | Constellation = 16QAM AND correct constellation decision) =  0.3795066413662239\n"
     ]
    }
   ],
   "source": [
    "print(\"P(Symbol Error | Constellation = 4QAM AND correct constellation decision) = \", \n",
    "     p_cons_4_symbolError_consCorrect_rate)\n",
    "print(\"P(Symbol Error | Constellation = 16QAM AND correct constellation decision) = \",\n",
    "     p_cons_16_symbolError_consCorrect_rate)"
   ]
  },
  {
   "cell_type": "markdown",
   "metadata": {},
   "source": [
    "# 4\n",
    "- P(Symbol Error | Interference AND correct constellation decision)\n",
    "- P(Symbol Error | No Interference AND correct constellation decision)"
   ]
  },
  {
   "cell_type": "code",
   "execution_count": 200,
   "metadata": {},
   "outputs": [],
   "source": [
    "interference_data = test[test.interference==1]"
   ]
  },
  {
   "cell_type": "code",
   "execution_count": 201,
   "metadata": {},
   "outputs": [],
   "source": [
    "interference_correct_cons = interference_data[interference_data.cons==interference_data.predicted_cons]"
   ]
  },
  {
   "cell_type": "code",
   "execution_count": 203,
   "metadata": {},
   "outputs": [],
   "source": [
    "cons_correct_symbol_error = interference_correct_cons[interference_correct_cons.label!=\n",
    "                                                      interference_correct_cons.prediction]"
   ]
  },
  {
   "cell_type": "code",
   "execution_count": 205,
   "metadata": {},
   "outputs": [],
   "source": [
    "cons_correct_symbol_error_rate = len(cons_correct_symbol_error)/total_error"
   ]
  },
  {
   "cell_type": "code",
   "execution_count": 210,
   "metadata": {},
   "outputs": [],
   "source": [
    "n_interference_data = test[test.interference==0]\n",
    "n_interference_symbol_error = n_interference_data[n_interference_data.label!=\n",
    "                                                n_interference_data.prediction]\n",
    "n_cons_correct_symbol_error = n_interference_symbol_error[n_interference_symbol_error.cons==\n",
    "                                                      n_interference_symbol_error.predicted_cons]\n",
    "n_cons_correct_symbol_error_rate = len(n_cons_correct_symbol_error)/total_error"
   ]
  },
  {
   "cell_type": "code",
   "execution_count": 211,
   "metadata": {
    "scrolled": true
   },
   "outputs": [
    {
     "name": "stdout",
     "output_type": "stream",
     "text": [
      "P(Symbol Error | Interference AND correct constellation decision) =  0.3788741302972802\n",
      "P(Symbol Error | No Interference AND correct constellation decision) =  0.0006325110689437065\n"
     ]
    }
   ],
   "source": [
    "print(\"P(Symbol Error | Interference AND correct constellation decision) = \", \n",
    "      cons_correct_symbol_error_rate)\n",
    "print(\"P(Symbol Error | No Interference AND correct constellation decision) = \", \n",
    "     n_cons_correct_symbol_error_rate)"
   ]
  },
  {
   "cell_type": "markdown",
   "metadata": {},
   "source": [
    "# 5\n",
    "- P(Interference | Constellation Error)\n",
    "- P(Interference | No Constellation Error)"
   ]
  },
  {
   "cell_type": "code",
   "execution_count": 167,
   "metadata": {},
   "outputs": [],
   "source": [
    "interference_data = test[test.interference==1]\n",
    "interference_cons_error = sum(interference_data.cons!=interference_data.predicted_cons)"
   ]
  },
  {
   "cell_type": "code",
   "execution_count": 212,
   "metadata": {},
   "outputs": [],
   "source": [
    "interference_cons_error_rate = interference_cons_error/len(interference_data)"
   ]
  },
  {
   "cell_type": "code",
   "execution_count": 214,
   "metadata": {},
   "outputs": [],
   "source": [
    "interference_cons_n_error = sum(interference_data.cons==interference_data.predicted_cons)"
   ]
  },
  {
   "cell_type": "code",
   "execution_count": 215,
   "metadata": {},
   "outputs": [],
   "source": [
    "interference_cons_n_error_rate = interference_cons_n_error/len(interference_data)"
   ]
  },
  {
   "cell_type": "code",
   "execution_count": 216,
   "metadata": {},
   "outputs": [
    {
     "name": "stdout",
     "output_type": "stream",
     "text": [
      "P(Interference | Constellation Error) =  0.12253521126760564\n",
      "P(Interference | No Constellation Error) =  0.8774647887323944\n"
     ]
    }
   ],
   "source": [
    "print(\"P(Interference | Constellation Error) = \", interference_cons_error_rate)\n",
    "print(\"P(Interference | No Constellation Error) = \", interference_cons_n_error_rate)"
   ]
  },
  {
   "cell_type": "code",
   "execution_count": 11,
   "metadata": {},
   "outputs": [],
   "source": [
    "result = \"./result/method\"\n",
    "test_result = []\n",
    "for i in range(1,11):\n",
    "    i = str(i)\n",
    "    data = pd.read_csv(result+i+\".csv\")\n",
    "    test_result.append(data)\n",
    "test = pd.concat(test_result, ignore_index=True)"
   ]
  },
  {
   "cell_type": "code",
   "execution_count": 13,
   "metadata": {},
   "outputs": [],
   "source": [
    "test.index += 1"
   ]
  },
  {
   "cell_type": "code",
   "execution_count": 14,
   "metadata": {},
   "outputs": [
    {
     "data": {
      "text/html": [
       "<div>\n",
       "<style scoped>\n",
       "    .dataframe tbody tr th:only-of-type {\n",
       "        vertical-align: middle;\n",
       "    }\n",
       "\n",
       "    .dataframe tbody tr th {\n",
       "        vertical-align: top;\n",
       "    }\n",
       "\n",
       "    .dataframe thead th {\n",
       "        text-align: right;\n",
       "    }\n",
       "</style>\n",
       "<table border=\"1\" class=\"dataframe\">\n",
       "  <thead>\n",
       "    <tr style=\"text-align: right;\">\n",
       "      <th></th>\n",
       "      <th>Unnamed: 0</th>\n",
       "      <th>gen_loss</th>\n",
       "      <th>gen_relative_loss</th>\n",
       "      <th>signal_loss</th>\n",
       "      <th>signal_relative_loss</th>\n",
       "      <th>noise_loss</th>\n",
       "      <th>noise_relative_loss</th>\n",
       "    </tr>\n",
       "  </thead>\n",
       "  <tbody>\n",
       "    <tr>\n",
       "      <th>1</th>\n",
       "      <td>0</td>\n",
       "      <td>0.018536</td>\n",
       "      <td>3.903176</td>\n",
       "      <td>0.191420</td>\n",
       "      <td>54.468190</td>\n",
       "      <td>0.057665</td>\n",
       "      <td>98.61353</td>\n",
       "    </tr>\n",
       "    <tr>\n",
       "      <th>2</th>\n",
       "      <td>0</td>\n",
       "      <td>0.020388</td>\n",
       "      <td>234.106350</td>\n",
       "      <td>0.167512</td>\n",
       "      <td>-16.027079</td>\n",
       "      <td>0.058447</td>\n",
       "      <td>453.40950</td>\n",
       "    </tr>\n",
       "    <tr>\n",
       "      <th>3</th>\n",
       "      <td>0</td>\n",
       "      <td>0.017184</td>\n",
       "      <td>1.485669</td>\n",
       "      <td>0.159658</td>\n",
       "      <td>9.362474</td>\n",
       "      <td>0.058028</td>\n",
       "      <td>397.06805</td>\n",
       "    </tr>\n",
       "    <tr>\n",
       "      <th>4</th>\n",
       "      <td>0</td>\n",
       "      <td>0.017878</td>\n",
       "      <td>-10.840482</td>\n",
       "      <td>0.160939</td>\n",
       "      <td>-56.187180</td>\n",
       "      <td>0.058335</td>\n",
       "      <td>-512.63350</td>\n",
       "    </tr>\n",
       "    <tr>\n",
       "      <th>5</th>\n",
       "      <td>0</td>\n",
       "      <td>0.017923</td>\n",
       "      <td>8.077351</td>\n",
       "      <td>0.162093</td>\n",
       "      <td>-28.411873</td>\n",
       "      <td>0.058148</td>\n",
       "      <td>417.12973</td>\n",
       "    </tr>\n",
       "    <tr>\n",
       "      <th>6</th>\n",
       "      <td>0</td>\n",
       "      <td>0.017491</td>\n",
       "      <td>2.484557</td>\n",
       "      <td>0.160338</td>\n",
       "      <td>34.378640</td>\n",
       "      <td>0.057734</td>\n",
       "      <td>565.52010</td>\n",
       "    </tr>\n",
       "    <tr>\n",
       "      <th>7</th>\n",
       "      <td>0</td>\n",
       "      <td>0.018586</td>\n",
       "      <td>-10.530231</td>\n",
       "      <td>0.161917</td>\n",
       "      <td>-20.161768</td>\n",
       "      <td>0.058923</td>\n",
       "      <td>-249.28694</td>\n",
       "    </tr>\n",
       "    <tr>\n",
       "      <th>8</th>\n",
       "      <td>0</td>\n",
       "      <td>0.019018</td>\n",
       "      <td>1.679274</td>\n",
       "      <td>0.165585</td>\n",
       "      <td>16.856802</td>\n",
       "      <td>0.058480</td>\n",
       "      <td>2276.33130</td>\n",
       "    </tr>\n",
       "    <tr>\n",
       "      <th>9</th>\n",
       "      <td>0</td>\n",
       "      <td>0.018424</td>\n",
       "      <td>1.647986</td>\n",
       "      <td>0.159293</td>\n",
       "      <td>17.752644</td>\n",
       "      <td>0.058828</td>\n",
       "      <td>375.52936</td>\n",
       "    </tr>\n",
       "    <tr>\n",
       "      <th>10</th>\n",
       "      <td>0</td>\n",
       "      <td>0.020115</td>\n",
       "      <td>12.817821</td>\n",
       "      <td>0.160217</td>\n",
       "      <td>-78.900410</td>\n",
       "      <td>0.057928</td>\n",
       "      <td>-436.68677</td>\n",
       "    </tr>\n",
       "  </tbody>\n",
       "</table>\n",
       "</div>"
      ],
      "text/plain": [
       "    Unnamed: 0  gen_loss  gen_relative_loss  signal_loss  \\\n",
       "1            0  0.018536           3.903176     0.191420   \n",
       "2            0  0.020388         234.106350     0.167512   \n",
       "3            0  0.017184           1.485669     0.159658   \n",
       "4            0  0.017878         -10.840482     0.160939   \n",
       "5            0  0.017923           8.077351     0.162093   \n",
       "6            0  0.017491           2.484557     0.160338   \n",
       "7            0  0.018586         -10.530231     0.161917   \n",
       "8            0  0.019018           1.679274     0.165585   \n",
       "9            0  0.018424           1.647986     0.159293   \n",
       "10           0  0.020115          12.817821     0.160217   \n",
       "\n",
       "    signal_relative_loss  noise_loss  noise_relative_loss  \n",
       "1              54.468190    0.057665             98.61353  \n",
       "2             -16.027079    0.058447            453.40950  \n",
       "3               9.362474    0.058028            397.06805  \n",
       "4             -56.187180    0.058335           -512.63350  \n",
       "5             -28.411873    0.058148            417.12973  \n",
       "6              34.378640    0.057734            565.52010  \n",
       "7             -20.161768    0.058923           -249.28694  \n",
       "8              16.856802    0.058480           2276.33130  \n",
       "9              17.752644    0.058828            375.52936  \n",
       "10            -78.900410    0.057928           -436.68677  "
      ]
     },
     "execution_count": 14,
     "metadata": {},
     "output_type": "execute_result"
    }
   ],
   "source": [
    "test"
   ]
  },
  {
   "cell_type": "code",
   "execution_count": null,
   "metadata": {},
   "outputs": [],
   "source": []
  }
 ],
 "metadata": {
  "kernelspec": {
   "display_name": "Python 3",
   "language": "python",
   "name": "python3"
  },
  "language_info": {
   "codemirror_mode": {
    "name": "ipython",
    "version": 3
   },
   "file_extension": ".py",
   "mimetype": "text/x-python",
   "name": "python",
   "nbconvert_exporter": "python",
   "pygments_lexer": "ipython3",
   "version": "3.7.1"
  }
 },
 "nbformat": 4,
 "nbformat_minor": 4
}
