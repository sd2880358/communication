{
 "cells": [
  {
   "cell_type": "code",
   "execution_count": 814,
   "metadata": {},
   "outputs": [],
   "source": [
    "import tensorflow as tf\n",
    "from tensorflow.keras import layers\n",
    "import numpy as np\n",
    "import os\n",
    "import scipy.io as sc\n",
    "import pandas as pd\n",
    "import matplotlib.pyplot as plt\n",
    "from tensorflow.keras.layers.experimental import preprocessing\n",
    "import time\n",
    "from IPython.display import clear_output"
   ]
  },
  {
   "cell_type": "code",
   "execution_count": 815,
   "metadata": {},
   "outputs": [],
   "source": [
    "import math \n",
    "cons_4 = np.dot(np.sqrt(0.5),[[i,j]for i in c_4 for j in c_4])\n",
    "cons_16 = [[i,j]for j in c_16 for i in c_16r]"
   ]
  },
  {
   "cell_type": "code",
   "execution_count": 816,
   "metadata": {},
   "outputs": [],
   "source": [
    "cons_16 = cons_16/np.sqrt(np.mean(np.abs(cons_16)**2))"
   ]
  },
  {
   "cell_type": "code",
   "execution_count": 817,
   "metadata": {},
   "outputs": [],
   "source": [
    "c_4 = [1,-1]\n",
    "c_16 = [3,1,-1,-3]\n",
    "c_16r = [-3,-1,1,3]"
   ]
  },
  {
   "cell_type": "code",
   "execution_count": 818,
   "metadata": {},
   "outputs": [],
   "source": [
    "import pandas as pd\n",
    "def dataset(dataFile, labelFile):\n",
    "    dataFile = \"./communication/\" + dataFile\n",
    "    labelFile = \"./communication/\" + labelFile\n",
    "    my_data = sc.loadmat(dataFile)\n",
    "    my_labels = sc.loadmat(labelFile)\n",
    "    my_data = my_data['Y']\n",
    "    X = my_labels['L_S_x'].T\n",
    "    cons = my_labels['L_Constellations'][0]\n",
    "    data = table_data(my_data)\n",
    "    label = assign_labels(X, cons)\n",
    "    return data, label\n",
    "\n",
    "def assign_labels(X, cons):\n",
    "    for i in range(len(cons)):\n",
    "        if cons[i] == 2:\n",
    "            X[i] = X[i] + 4\n",
    "    X = X-1\n",
    "    return X\n",
    "\n",
    "def table_data(my_data):\n",
    "    data = np.dstack([my_data.real.T, my_data.imag.T])\n",
    "    return data"
   ]
  },
  {
   "cell_type": "code",
   "execution_count": 819,
   "metadata": {},
   "outputs": [],
   "source": [
    "data1 = \"hard\"\n",
    "data1_label = \"hard_label\"\n",
    "data, label = dataset(data1, data1_label)\n",
    "test_data = data.reshape(1000,1,50,2)\n",
    "test_label = label.reshape(1000,1,50,1)\n",
    "test_label = tf.cast(test_label, tf.float32)"
   ]
  },
  {
   "cell_type": "code",
   "execution_count": 820,
   "metadata": {},
   "outputs": [],
   "source": [
    "BUFFER_SIZE = 1000\n",
    "BATCH_SIZE = 1\n",
    "SIGNAL_SIZE = 2\n",
    "BlockSize = 50\n",
    "Lambda = 10"
   ]
  },
  {
   "cell_type": "code",
   "execution_count": 821,
   "metadata": {},
   "outputs": [],
   "source": [
    "def random_crop(image):\n",
    "    cropped_image = tf.image.random_crop(\n",
    "      image, size=[IMG_HEIGHT, IMG_WIDTH, 3])\n",
    "    return cropped_image"
   ]
  },
  {
   "cell_type": "code",
   "execution_count": 822,
   "metadata": {},
   "outputs": [],
   "source": [
    "def normalize(image):\n",
    "    image = tf.cast(image, tf.float32)\n",
    "    image = (image / 127.5) - 1\n",
    "    return image"
   ]
  },
  {
   "cell_type": "code",
   "execution_count": 824,
   "metadata": {},
   "outputs": [
    {
     "data": {
      "text/plain": [
       "<MapDataset shapes: (1, 50, 2), types: tf.float32>"
      ]
     },
     "execution_count": 824,
     "metadata": {},
     "output_type": "execute_result"
    }
   ],
   "source": [
    "x = tf.data.Dataset.from_tensor_slices(test_data)\n",
    "x.map(normalize)"
   ]
  },
  {
   "cell_type": "code",
   "execution_count": 1106,
   "metadata": {},
   "outputs": [],
   "source": [
    "def make_generator_model():\n",
    "    model = tf.keras.Sequential()\n",
    "    model.add(layers.Dense(25*2*1, use_bias=False, input_shape=[50,2]))\n",
    "    model.add(layers.BatchNormalization())\n",
    "    model.add(layers.LeakyReLU())\n",
    "    model.add(layers.Reshape((5, 5, 100)))\n",
    "    model.add(layers.Conv2DTranspose(128, (5, 5), strides=(1, 1), padding='same', use_bias=False))\n",
    "    model.add(layers.Flatten())\n",
    "    model.add(layers.Dense(50))\n",
    "    model.add(layers.Reshape((50,1)))\n",
    "\n",
    "    return model"
   ]
  },
  {
   "cell_type": "code",
   "execution_count": 1107,
   "metadata": {},
   "outputs": [
    {
     "name": "stdout",
     "output_type": "stream",
     "text": [
      "Model: \"sequential_158\"\n",
      "_________________________________________________________________\n",
      "Layer (type)                 Output Shape              Param #   \n",
      "=================================================================\n",
      "dense_426 (Dense)            (None, 50, 50)            100       \n",
      "_________________________________________________________________\n",
      "batch_normalization_72 (Batc (None, 50, 50)            200       \n",
      "_________________________________________________________________\n",
      "leaky_re_lu_108 (LeakyReLU)  (None, 50, 50)            0         \n",
      "_________________________________________________________________\n",
      "reshape_72 (Reshape)         (None, 5, 5, 100)         0         \n",
      "_________________________________________________________________\n",
      "conv2d_transpose_46 (Conv2DT (None, 5, 5, 128)         320000    \n",
      "_________________________________________________________________\n",
      "flatten_41 (Flatten)         (None, 3200)              0         \n",
      "_________________________________________________________________\n",
      "dense_427 (Dense)            (None, 50)                160050    \n",
      "_________________________________________________________________\n",
      "reshape_73 (Reshape)         (None, 50, 1)             0         \n",
      "=================================================================\n",
      "Total params: 480,350\n",
      "Trainable params: 480,250\n",
      "Non-trainable params: 100\n",
      "_________________________________________________________________\n"
     ]
    }
   ],
   "source": [
    "generator = make_generator_model()\n",
    "generator.summary()"
   ]
  },
  {
   "cell_type": "code",
   "execution_count": 827,
   "metadata": {},
   "outputs": [
    {
     "data": {
      "text/plain": [
       "TensorShape([1, 50, 1])"
      ]
     },
     "execution_count": 827,
     "metadata": {},
     "output_type": "execute_result"
    }
   ],
   "source": [
    "noise = tf.random.normal([1,50,2])\n",
    "test = generator(noise)\n",
    "test.shape"
   ]
  },
  {
   "cell_type": "code",
   "execution_count": 828,
   "metadata": {},
   "outputs": [],
   "source": [
    "def make_discriminator_model():\n",
    "    model = tf.keras.Sequential()\n",
    "    model.add(layers.Reshape((5, 5, 2)))\n",
    "    model.add(layers.Conv2D(64, (5, 5), strides=(2, 2), padding='same',\n",
    "                                     input_shape=[5, 5, 2]))\n",
    "    model.add(layers.LeakyReLU())\n",
    "    model.add(layers.Dropout(0.3))\n",
    "    model.add(layers.Conv2D(128, (5, 5), strides=(2, 2), padding='same'))\n",
    "    model.add(layers.LeakyReLU())\n",
    "    model.add(layers.Dropout(0.3))\n",
    "\n",
    "    model.add(layers.Flatten())\n",
    "    model.add(layers.Dense(1))\n",
    "    return model"
   ]
  },
  {
   "cell_type": "code",
   "execution_count": 1079,
   "metadata": {},
   "outputs": [],
   "source": [
    "def mlp_module():\n",
    "    model = tf.keras.Sequential([\n",
    "        layers.Dense(128, input_shape=(1,)),\n",
    "        layers.Dense(128, activation='relu'),\n",
    "        layers.Dense(128, activation='relu'),\n",
    "        layers.Dense(128, activation='relu'),\n",
    "        layers.Dense(128, activation='relu'),\n",
    "        layers.Dense(128, activation='relu'),\n",
    "        layers.Dense(20)\n",
    "    ])\n",
    "    model.compile(loss=tf.keras.losses.SparseCategoricalCrossentropy(from_logits=True),\n",
    "                  optimizer=tf.keras.optimizers.Adam(0.01),\n",
    "                  metrics=['accuracy'])\n",
    "    return model\n",
    "dnn_real_model = mlp_module()"
   ]
  },
  {
   "cell_type": "code",
   "execution_count": 1010,
   "metadata": {},
   "outputs": [
    {
     "data": {
      "text/plain": [
       "array([[-0.11847793],\n",
       "       [ 0.09952572],\n",
       "       [ 0.10758559],\n",
       "       [-0.12238979],\n",
       "       [ 0.00964986],\n",
       "       [-0.00551957],\n",
       "       [ 0.0620527 ],\n",
       "       [-0.12378856],\n",
       "       [ 0.43204975],\n",
       "       [-0.09783804],\n",
       "       [-0.16064131],\n",
       "       [-0.0035218 ],\n",
       "       [-0.09310694],\n",
       "       [ 0.11383899],\n",
       "       [ 0.08875256],\n",
       "       [ 0.01911758],\n",
       "       [ 0.20968178],\n",
       "       [-0.14024657],\n",
       "       [ 0.0629466 ],\n",
       "       [-0.03180377],\n",
       "       [ 0.01185387],\n",
       "       [ 0.11307556],\n",
       "       [ 0.15024345],\n",
       "       [ 0.15534666],\n",
       "       [ 0.02849817],\n",
       "       [-0.11257623],\n",
       "       [-0.04099222],\n",
       "       [ 0.08883237],\n",
       "       [ 0.2890658 ],\n",
       "       [-0.37759766],\n",
       "       [ 0.01476518],\n",
       "       [ 0.18436468],\n",
       "       [ 0.03158058],\n",
       "       [ 0.14132768],\n",
       "       [ 0.2634802 ],\n",
       "       [-0.17791732],\n",
       "       [-0.20337816],\n",
       "       [ 0.09293018],\n",
       "       [ 0.26617798],\n",
       "       [-0.05074031],\n",
       "       [-0.00703778],\n",
       "       [-0.00621992],\n",
       "       [-0.1247348 ],\n",
       "       [-0.02823274],\n",
       "       [ 0.00171772],\n",
       "       [-0.3321729 ],\n",
       "       [ 0.12251937],\n",
       "       [ 0.08287483],\n",
       "       [ 0.11752814],\n",
       "       [-0.06167053]], dtype=float32)"
      ]
     },
     "execution_count": 1010,
     "metadata": {},
     "output_type": "execute_result"
    }
   ],
   "source": [
    "discriminator = make_discriminator_model()\n",
    "discriminator(test)\n",
    "x = test.numpy().reshape(50,1)\n",
    "x"
   ]
  },
  {
   "cell_type": "code",
   "execution_count": 832,
   "metadata": {},
   "outputs": [],
   "source": [
    "decision = discriminator(test)"
   ]
  },
  {
   "cell_type": "code",
   "execution_count": 833,
   "metadata": {},
   "outputs": [
    {
     "data": {
      "text/plain": [
       "(1, 50, 2)"
      ]
     },
     "execution_count": 833,
     "metadata": {},
     "output_type": "execute_result"
    }
   ],
   "source": [
    "test_data[0].shape"
   ]
  },
  {
   "cell_type": "code",
   "execution_count": 834,
   "metadata": {},
   "outputs": [],
   "source": [
    "cross_entropy = tf.keras.losses.BinaryCrossentropy(from_logits=True)"
   ]
  },
  {
   "cell_type": "code",
   "execution_count": 835,
   "metadata": {},
   "outputs": [],
   "source": [
    "def discriminator_loss(real_output, fake_output):\n",
    "    real_loss = cross_entropy(tf.ones_like(real_output), real_output)\n",
    "    fake_loss = cross_entropy(tf.zeros_like(fake_output), fake_output)\n",
    "    total_loss = real_loss + fake_loss\n",
    "    return total_loss"
   ]
  },
  {
   "cell_type": "code",
   "execution_count": 836,
   "metadata": {},
   "outputs": [],
   "source": [
    "def generator_loss(fake_output):\n",
    "    return cross_entropy(tf.ones_like(fake_output), fake_output)"
   ]
  },
  {
   "cell_type": "code",
   "execution_count": 838,
   "metadata": {},
   "outputs": [],
   "source": [
    "def cal_cycle_loss(real, fake):\n",
    "    loss1 = tf.reduce_mean(tf.abs(real - fake))\n",
    "    return LAMBDA * loss1"
   ]
  },
  {
   "cell_type": "code",
   "execution_count": 839,
   "metadata": {},
   "outputs": [],
   "source": [
    "generator_optimizer = tf.keras.optimizers.Adam(1e-2)\n",
    "discriminator_optimizer = tf.keras.optimizers.Adam(1e-2)\n",
    "cycle_optimizer = tf.keras.optimizers.Adam(1e-2)"
   ]
  },
  {
   "cell_type": "code",
   "execution_count": 1113,
   "metadata": {},
   "outputs": [
    {
     "name": "stdout",
     "output_type": "stream",
     "text": [
      "Latest checkpoint restored!!\n"
     ]
    }
   ],
   "source": [
    "checkpoint_path = \"./checkpoints/train\"\n",
    "checkpoint = tf.train.Checkpoint(generator_optimizer=generator_optimizer,\n",
    "                                 discriminator_optimizer=discriminator_optimizer,\n",
    "                                 generator=generator,\n",
    "                                 discriminator=discriminator)\n",
    "ckpt_manager = tf.train.CheckpointManager(checkpoint, checkpoint_path, max_to_keep=5)\n",
    "if ckpt_manager.latest_checkpoint:\n",
    "    checkpoint.restore(ckpt_manager.latest_checkpoint)\n",
    "    print ('Latest checkpoint restored!!')"
   ]
  },
  {
   "cell_type": "code",
   "execution_count": 1095,
   "metadata": {},
   "outputs": [],
   "source": [
    "EPOCHS = 5\n",
    "# We will reuse this seed overtime (so it's easier)\n",
    "# to visualize progress in the animated GIF)\n",
    "seed = tf.random.normal([num_examples_to_generate, noise_dim])"
   ]
  },
  {
   "cell_type": "code",
   "execution_count": 1096,
   "metadata": {},
   "outputs": [],
   "source": [
    "# Notice the use of `tf.function`\n",
    "# This annotation causes the function to be \"compiled\".\n",
    "@tf.function\n",
    "def train_step(noise, label):\n",
    "    with tf.GradientTape(persistent=True) as tape:\n",
    "        generated = generator(noise, training=True)\n",
    "        real_output = discriminator(label, training=True)\n",
    "        fake_output = discriminator(generated, training=True)\n",
    "        gen_loss = generator_loss(fake_output)\n",
    "        disc_loss = discriminator_loss(real_output, fake_output)\n",
    "        cycle_loss = cal_cycle_loss(label, generated)\n",
    "        total_loss = cycle_loss + gen_loss\n",
    "\n",
    "    gradients_of_generator = tape.gradient(total_loss, generator.trainable_variables)\n",
    "    gradients_of_discriminator = tape.gradient(disc_loss, discriminator.trainable_variables)\n",
    "    generator_optimizer.apply_gradients(zip(gradients_of_generator, generator.trainable_variables))\n",
    "    discriminator_optimizer.apply_gradients(zip(gradients_of_discriminator, discriminator.trainable_variables))"
   ]
  },
  {
   "cell_type": "code",
   "execution_count": 1092,
   "metadata": {},
   "outputs": [],
   "source": [
    "def train(test_data, test_label, epochs):\n",
    "    mlp = mlp_module()\n",
    "    mlp_label = test_label.numpy().reshape(50000,1)\n",
    "    for epoch in range(epochs):\n",
    "        mlp_data = []\n",
    "        start = time.time()\n",
    "        for i in range(len(test_label)):\n",
    "            noise = test_data[i]\n",
    "            label = test_label[i]\n",
    "            train_step(noise, label)\n",
    "            mlp_data.append(generator(noise).numpy())\n",
    "        mlp_data = np.array(mlp_data).reshape(50000,1)\n",
    "        mlp.fit(mlp_data, mlp_label)\n",
    "        print ('Time for epoch {} is {} sec'.format(epoch + 1, time.time()-start))\n",
    "        if (epoch + 1) % 5 == 0:\n",
    "            ckpt_save_path = ckpt_manager.save()\n",
    "            print ('Saving checkpoint for epoch {} at {}'.format(epoch+1,\n",
    "                                                         ckpt_save_path))\n",
    "        \n",
    "    \n",
    "    return mlp"
   ]
  },
  {
   "cell_type": "code",
   "execution_count": 1093,
   "metadata": {},
   "outputs": [],
   "source": [
    "def generate_and_save_images(model, epoch, test_input):\n",
    "  # Notice `training` is set to False.\n",
    "  # This is so all layers run in inference mode (batchnorm).\n",
    "    predictions = model(test_input, training=False)\n",
    "\n",
    "    fig = plt.figure(figsize=(4,4))\n",
    "\n",
    "    for i in range(predictions.shape[0]):\n",
    "        plt.subplot(4, 4, i+1)\n",
    "        plt.imshow(predictions[i, :, :, 0] * 127.5 + 127.5, cmap='gray')\n",
    "        plt.axis('off')\n",
    "\n",
    "    plt.savefig('image_at_epoch_{:04d}.png'.format(epoch))\n",
    "    plt.show()"
   ]
  },
  {
   "cell_type": "code",
   "execution_count": 1094,
   "metadata": {
    "scrolled": true
   },
   "outputs": [
    {
     "name": "stdout",
     "output_type": "stream",
     "text": [
      "1563/1563 [==============================] - 2s 1ms/step - loss: 2.8010 - accuracy: 0.1265\n",
      "Time for epoch 1 is 7.002943992614746 sec\n",
      "1563/1563 [==============================] - 2s 1ms/step - loss: 2.7576 - accuracy: 0.1285\n",
      "Time for epoch 2 is 6.864525079727173 sec\n",
      "1563/1563 [==============================] - 2s 1ms/step - loss: 2.7575 - accuracy: 0.1283\n",
      "Time for epoch 3 is 6.54262900352478 sec\n",
      "1563/1563 [==============================] - 2s 1ms/step - loss: 2.7576 - accuracy: 0.1277\n",
      "Time for epoch 4 is 6.682286977767944 sec\n",
      "1563/1563 [==============================] - 2s 1ms/step - loss: 2.7576 - accuracy: 0.1278\n",
      "Time for epoch 5 is 6.584009170532227 sec\n",
      "Saving checkpoint for epoch 5 at ./checkpoints/train/ckpt-4\n"
     ]
    }
   ],
   "source": [
    "mlp = train(test_data, test_label, EPOCHS)"
   ]
  },
  {
   "cell_type": "code",
   "execution_count": 720,
   "metadata": {},
   "outputs": [
    {
     "data": {
      "text/plain": [
       "<tf.Tensor: shape=(), dtype=float32, numpy=49.94932>"
      ]
     },
     "execution_count": 720,
     "metadata": {},
     "output_type": "execute_result"
    }
   ],
   "source": [
    "cal_cycle_loss(generator(test_data[0]), label[0])"
   ]
  },
  {
   "cell_type": "code",
   "execution_count": 1097,
   "metadata": {},
   "outputs": [],
   "source": [
    "x = generator(test_data[0]).numpy().reshape(50,1)"
   ]
  },
  {
   "cell_type": "code",
   "execution_count": 1098,
   "metadata": {},
   "outputs": [],
   "source": [
    "y = test_label[0].numpy().reshape(50,1)"
   ]
  },
  {
   "cell_type": "code",
   "execution_count": 936,
   "metadata": {},
   "outputs": [],
   "source": [
    "mlp_data = []\n",
    "for i in range(len(test_label)):\n",
    "        noise = test_data[i]\n",
    "        mlp_data.append(generator(noise).numpy().reshape(50))"
   ]
  },
  {
   "cell_type": "code",
   "execution_count": 970,
   "metadata": {},
   "outputs": [],
   "source": [
    "mlp_data = np.array(mlp_data).reshape(50000,1)"
   ]
  },
  {
   "cell_type": "code",
   "execution_count": 971,
   "metadata": {},
   "outputs": [],
   "source": [
    "mlp_label = test_label.numpy().reshape(50000,1)"
   ]
  },
  {
   "cell_type": "code",
   "execution_count": 972,
   "metadata": {},
   "outputs": [
    {
     "data": {
      "text/plain": [
       "(50000, 1)"
      ]
     },
     "execution_count": 972,
     "metadata": {},
     "output_type": "execute_result"
    }
   ],
   "source": [
    "mlp_label.shape"
   ]
  },
  {
   "cell_type": "code",
   "execution_count": 1089,
   "metadata": {},
   "outputs": [],
   "source": [
    "mlp = mlp_module()"
   ]
  },
  {
   "cell_type": "code",
   "execution_count": 1025,
   "metadata": {},
   "outputs": [],
   "source": [
    "normalizer = preprocessing.Normalization()"
   ]
  },
  {
   "cell_type": "code",
   "execution_count": 1026,
   "metadata": {},
   "outputs": [
    {
     "data": {
      "text/plain": [
       "<tensorflow.python.keras.layers.preprocessing.normalization.Normalization at 0x7fb3a9849160>"
      ]
     },
     "execution_count": 1026,
     "metadata": {},
     "output_type": "execute_result"
    }
   ],
   "source": [
    "normalizer = preprocessing.Normalization()\n",
    "normalizer.adapt(np.array(train_features))\n",
    "dnn_real_model = build_and_compile_model(normalizer)"
   ]
  },
  {
   "cell_type": "code",
   "execution_count": 1114,
   "metadata": {},
   "outputs": [],
   "source": [
    "x = generator(test_data[0])"
   ]
  },
  {
   "cell_type": "code",
   "execution_count": 1121,
   "metadata": {},
   "outputs": [
    {
     "data": {
      "text/plain": [
       "<tf.Tensor: shape=(), dtype=float32, numpy=85.40047>"
      ]
     },
     "execution_count": 1121,
     "metadata": {},
     "output_type": "execute_result"
    }
   ],
   "source": [
    "cal_cycle_loss(mlp_data, mlp_label)"
   ]
  },
  {
   "cell_type": "code",
   "execution_count": 1120,
   "metadata": {},
   "outputs": [
    {
     "data": {
      "text/plain": [
       "array([[ 5.549143 ],\n",
       "       [15.923605 ],\n",
       "       [14.276071 ],\n",
       "       ...,\n",
       "       [18.949871 ],\n",
       "       [24.051914 ],\n",
       "       [ 3.8551936]], dtype=float32)"
      ]
     },
     "execution_count": 1120,
     "metadata": {},
     "output_type": "execute_result"
    }
   ],
   "source": [
    "mlp_data"
   ]
  },
  {
   "cell_type": "code",
   "execution_count": null,
   "metadata": {},
   "outputs": [],
   "source": []
  }
 ],
 "metadata": {
  "kernelspec": {
   "display_name": "Python 3",
   "language": "python",
   "name": "python3"
  },
  "language_info": {
   "codemirror_mode": {
    "name": "ipython",
    "version": 3
   },
   "file_extension": ".py",
   "mimetype": "text/x-python",
   "name": "python",
   "nbconvert_exporter": "python",
   "pygments_lexer": "ipython3",
   "version": "3.7.1"
  }
 },
 "nbformat": 4,
 "nbformat_minor": 4
}
